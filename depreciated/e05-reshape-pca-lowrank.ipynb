{
 "cells": [
  {
   "cell_type": "markdown",
   "metadata": {},
   "source": [
    "This notebook follows 05_make_rentina_subsets_for_teaching.\n",
    "\n",
    "Inputs:\n",
    "1. retina_clusteridentities.txt\n",
    "2. amacrine_gene_metadata.csv\n",
    "3. differential_clusters_pca_lowrank.csv\n",
    "\n",
    "This notebook outputs the following files:\n",
    "1. differential_clusters_lowrank_tidy.csv\n",
    "2. amacrine_lowrank_tidy.csv\n",
    "\n",
    "Comment: I have no idea why we have to save these. They files are huge."
   ]
  },
  {
   "cell_type": "code",
   "execution_count": 1,
   "metadata": {},
   "outputs": [],
   "source": [
    "import pandas as pd\n",
    "import numpy as np"
   ]
  },
  {
   "cell_type": "code",
   "execution_count": 2,
   "metadata": {},
   "outputs": [],
   "source": [
    "to_save=False  # do not save this, it's seemingly pointless"
   ]
  },
  {
   "cell_type": "markdown",
   "metadata": {},
   "source": [
    "# Get Data"
   ]
  },
  {
   "cell_type": "code",
   "execution_count": 11,
   "metadata": {},
   "outputs": [],
   "source": [
    "# cell_cluster information\n",
    "cluster_df = pd.read_csv(\"data/downloads/retina_clusteridentities.txt\",\n",
    "                         sep='\\t', header=None, names=['cell', 'cluster_no'], index_col=0)\n",
    "\n",
    "# amacrine_gene_metadata\n",
    "amacrine_gene_metadata = pd.read_csv('data/amacrine/amacrine_gene_metadata.csv', index_col=0)\n",
    "\n",
    "# Lowrank\n",
    "lowrank_df = pd.read_csv('data/pca/differential_clusters_pca_lowrank.csv', index_col=0)"
   ]
  },
  {
   "cell_type": "markdown",
   "metadata": {},
   "source": [
    "# Tidify and Log Expression"
   ]
  },
  {
   "cell_type": "code",
   "execution_count": 6,
   "metadata": {},
   "outputs": [
    {
     "name": "stderr",
     "output_type": "stream",
     "text": [
      "/home/harrisonized/anaconda3/envs/py36/lib/python3.6/site-packages/pandas/core/series.py:726: RuntimeWarning: invalid value encountered in log10\n",
      "  result = getattr(ufunc, method)(*inputs, **kwargs)\n"
     ]
    },
    {
     "name": "stdout",
     "output_type": "stream",
     "text": [
      "(7645400, 5)\n"
     ]
    },
    {
     "data": {
      "text/html": [
       "<div>\n",
       "<style scoped>\n",
       "    .dataframe tbody tr th:only-of-type {\n",
       "        vertical-align: middle;\n",
       "    }\n",
       "\n",
       "    .dataframe tbody tr th {\n",
       "        vertical-align: top;\n",
       "    }\n",
       "\n",
       "    .dataframe thead th {\n",
       "        text-align: right;\n",
       "    }\n",
       "</style>\n",
       "<table border=\"1\" class=\"dataframe\">\n",
       "  <thead>\n",
       "    <tr style=\"text-align: right;\">\n",
       "      <th></th>\n",
       "      <th>gene_symbol</th>\n",
       "      <th>barcode</th>\n",
       "      <th>expression</th>\n",
       "      <th>expression_log</th>\n",
       "      <th>cluster_no</th>\n",
       "    </tr>\n",
       "  </thead>\n",
       "  <tbody>\n",
       "    <tr>\n",
       "      <th>0</th>\n",
       "      <td>1500015O10RIK</td>\n",
       "      <td>r1_GGCCGCAGTCCG</td>\n",
       "      <td>0.0</td>\n",
       "      <td>0.0</td>\n",
       "      <td>2</td>\n",
       "    </tr>\n",
       "    <tr>\n",
       "      <th>1</th>\n",
       "      <td>1500015O10RIK</td>\n",
       "      <td>r1_CTTGTGCGGGAA</td>\n",
       "      <td>0.0</td>\n",
       "      <td>0.0</td>\n",
       "      <td>2</td>\n",
       "    </tr>\n",
       "    <tr>\n",
       "      <th>2</th>\n",
       "      <td>1500015O10RIK</td>\n",
       "      <td>r1_GCGCAACTGCTC</td>\n",
       "      <td>0.0</td>\n",
       "      <td>0.0</td>\n",
       "      <td>2</td>\n",
       "    </tr>\n",
       "    <tr>\n",
       "      <th>3</th>\n",
       "      <td>1500015O10RIK</td>\n",
       "      <td>r1_GATTGGGAGGCA</td>\n",
       "      <td>-0.0</td>\n",
       "      <td>0.0</td>\n",
       "      <td>2</td>\n",
       "    </tr>\n",
       "    <tr>\n",
       "      <th>4</th>\n",
       "      <td>1500015O10RIK</td>\n",
       "      <td>r1_GTGCCGCCTCTC</td>\n",
       "      <td>-0.0</td>\n",
       "      <td>0.0</td>\n",
       "      <td>25</td>\n",
       "    </tr>\n",
       "  </tbody>\n",
       "</table>\n",
       "</div>"
      ],
      "text/plain": [
       "     gene_symbol          barcode  expression  expression_log  cluster_no\n",
       "0  1500015O10RIK  r1_GGCCGCAGTCCG         0.0             0.0           2\n",
       "1  1500015O10RIK  r1_CTTGTGCGGGAA         0.0             0.0           2\n",
       "2  1500015O10RIK  r1_GCGCAACTGCTC         0.0             0.0           2\n",
       "3  1500015O10RIK  r1_GATTGGGAGGCA        -0.0             0.0           2\n",
       "4  1500015O10RIK  r1_GTGCCGCCTCTC        -0.0             0.0          25"
      ]
     },
     "execution_count": 6,
     "metadata": {},
     "output_type": "execute_result"
    }
   ],
   "source": [
    "# tidify and log\n",
    "lowrank_tidy = lowrank_df.unstack().reset_index()\n",
    "lowrank_tidy = lowrank_tidy.rename(columns={'level_0': 'gene_symbol',\n",
    "                                            'cell': 'barcode',\n",
    "                                            0: 'expression'})\n",
    "lowrank_tidy['expression_log'] = np.log10(lowrank_tidy['expression'] + 1)  # in the original notebook this was exported too\n",
    "\n",
    "lowrank_tidy = lowrank_tidy.join(cluster_df, on='barcode')  # add cluster_no\n",
    "\n",
    "# preview\n",
    "print(lowrank_tidy.shape)\n",
    "lowrank_tidy.head()"
   ]
  },
  {
   "cell_type": "code",
   "execution_count": 7,
   "metadata": {},
   "outputs": [],
   "source": [
    "if to_save:\n",
    "    lowrank_tidy_metadata.to_csv('data/pca/differential_clusters_pca_lowrank_tidy.csv')"
   ]
  },
  {
   "cell_type": "markdown",
   "metadata": {},
   "source": [
    "# Amacrine"
   ]
  },
  {
   "cell_type": "code",
   "execution_count": 9,
   "metadata": {},
   "outputs": [
    {
     "name": "stdout",
     "output_type": "stream",
     "text": [
      "(438396, 5)\n"
     ]
    },
    {
     "data": {
      "text/html": [
       "<div>\n",
       "<style scoped>\n",
       "    .dataframe tbody tr th:only-of-type {\n",
       "        vertical-align: middle;\n",
       "    }\n",
       "\n",
       "    .dataframe tbody tr th {\n",
       "        vertical-align: top;\n",
       "    }\n",
       "\n",
       "    .dataframe thead th {\n",
       "        text-align: right;\n",
       "    }\n",
       "</style>\n",
       "<table border=\"1\" class=\"dataframe\">\n",
       "  <thead>\n",
       "    <tr style=\"text-align: right;\">\n",
       "      <th></th>\n",
       "      <th>gene_symbol</th>\n",
       "      <th>barcode</th>\n",
       "      <th>expression</th>\n",
       "      <th>expression_log</th>\n",
       "      <th>cluster_no</th>\n",
       "    </tr>\n",
       "  </thead>\n",
       "  <tbody>\n",
       "    <tr>\n",
       "      <th>12055</th>\n",
       "      <td>1700025G04RIK</td>\n",
       "      <td>r1_GGGTGTCAGTGG</td>\n",
       "      <td>-0.045608</td>\n",
       "      <td>-0.020273</td>\n",
       "      <td>6</td>\n",
       "    </tr>\n",
       "    <tr>\n",
       "      <th>12058</th>\n",
       "      <td>1700025G04RIK</td>\n",
       "      <td>r1_GTTTATATGCGC</td>\n",
       "      <td>0.178449</td>\n",
       "      <td>0.071311</td>\n",
       "      <td>5</td>\n",
       "    </tr>\n",
       "    <tr>\n",
       "      <th>12059</th>\n",
       "      <td>1700025G04RIK</td>\n",
       "      <td>r1_TCTTCACTGGCT</td>\n",
       "      <td>0.252604</td>\n",
       "      <td>0.097814</td>\n",
       "      <td>13</td>\n",
       "    </tr>\n",
       "    <tr>\n",
       "      <th>12060</th>\n",
       "      <td>1700025G04RIK</td>\n",
       "      <td>r1_TCATTTAGTCGA</td>\n",
       "      <td>0.000000</td>\n",
       "      <td>0.000000</td>\n",
       "      <td>8</td>\n",
       "    </tr>\n",
       "    <tr>\n",
       "      <th>12063</th>\n",
       "      <td>1700025G04RIK</td>\n",
       "      <td>r1_GTCTATTCGGTT</td>\n",
       "      <td>-0.132676</td>\n",
       "      <td>-0.061818</td>\n",
       "      <td>10</td>\n",
       "    </tr>\n",
       "  </tbody>\n",
       "</table>\n",
       "</div>"
      ],
      "text/plain": [
       "         gene_symbol          barcode  expression  expression_log  cluster_no\n",
       "12055  1700025G04RIK  r1_GGGTGTCAGTGG   -0.045608       -0.020273           6\n",
       "12058  1700025G04RIK  r1_GTTTATATGCGC    0.178449        0.071311           5\n",
       "12059  1700025G04RIK  r1_TCTTCACTGGCT    0.252604        0.097814          13\n",
       "12060  1700025G04RIK  r1_TCATTTAGTCGA    0.000000        0.000000           8\n",
       "12063  1700025G04RIK  r1_GTCTATTCGGTT   -0.132676       -0.061818          10"
      ]
     },
     "execution_count": 9,
     "metadata": {},
     "output_type": "execute_result"
    }
   ],
   "source": [
    "# subset\n",
    "amacrine_cluster_nos = list(range(3, 24))\n",
    "amacrine_lowrank_tidy = lowrank_tidy[\n",
    "    (lowrank_tidy['cluster_no'].isin(amacrine_cluster_nos)) &  # select amacrine clusters\n",
    "    (lowrank_tidy['gene_symbol'].isin(amacrine_gene_metadata.index))  # select amacrine genes\n",
    "]\n",
    "\n",
    "# preview\n",
    "print(amacrine_lowrank_tidy.shape)\n",
    "amacrine_lowrank_tidy.head()"
   ]
  },
  {
   "cell_type": "code",
   "execution_count": 10,
   "metadata": {},
   "outputs": [],
   "source": [
    "if to_save:\n",
    "    lowrank_tidy_amacrine.to_csv('data/pca/amacrine_pca_lowrank_tidy.csv')"
   ]
  },
  {
   "cell_type": "code",
   "execution_count": null,
   "metadata": {},
   "outputs": [],
   "source": []
  }
 ],
 "metadata": {
  "kernelspec": {
   "display_name": "Python 3",
   "language": "python",
   "name": "python3"
  },
  "language_info": {
   "codemirror_mode": {
    "name": "ipython",
    "version": 3
   },
   "file_extension": ".py",
   "mimetype": "text/x-python",
   "name": "python",
   "nbconvert_exporter": "python",
   "pygments_lexer": "ipython3",
   "version": "3.6.10"
  }
 },
 "nbformat": 4,
 "nbformat_minor": 4
}
