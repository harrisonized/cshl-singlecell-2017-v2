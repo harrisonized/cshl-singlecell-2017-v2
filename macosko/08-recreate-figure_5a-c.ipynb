{
 "cells": [
  {
   "cell_type": "markdown",
   "metadata": {},
   "source": [
    "This notebook follows 08_recreate_figure_5.\n",
    "\n",
    "Inputs:\n",
    "1. cell_metadata.csv was output from 03-make-cell-metadata\n",
    "2. differential_expression.csv was output from 05-clean-data-from-retina_1\n",
    "2. differential_cell_metadata.csv was output from 05-clean-data-from-retina_1\n",
    "3. differential_gene_metadata.csv was output from 05-clean-data-from-retina_1"
   ]
  },
  {
   "cell_type": "code",
   "execution_count": 1,
   "metadata": {},
   "outputs": [],
   "source": [
    "import os\n",
    "import numpy as np\n",
    "import matplotlib.pyplot as plt\n",
    "import pandas as pd\n",
    "import seaborn as sns\n",
    "import altair"
   ]
  },
  {
   "cell_type": "markdown",
   "metadata": {},
   "source": [
    "# Get Data"
   ]
  },
  {
   "cell_type": "code",
   "execution_count": 3,
   "metadata": {},
   "outputs": [],
   "source": [
    "expression = pd.read_csv('data/differential_clusters/differential_clusters_expression.csv', index_col=0)\n",
    "cell_metadata = pd.read_csv('data/differential_clusters/differential_clusters_cell_metadata.csv', index_col=0)\n",
    "gene_metadata = pd.read_csv( 'data/differential_clusters/differential_clusters_gene_metadata.csv', index_col=0)"
   ]
  },
  {
   "cell_type": "code",
   "execution_count": 4,
   "metadata": {},
   "outputs": [
    {
     "data": {
      "text/plain": [
       "r1_GGCCGCAGTCCG    cluster_02\n",
       "r1_CTTGTGCGGGAA    cluster_02\n",
       "r1_GCGCAACTGCTC    cluster_02\n",
       "r1_GATTGGGAGGCA    cluster_02\n",
       "r1_GTGCCGCCTCTC    cluster_25\n",
       "Name: cluster_id, dtype: object"
      ]
     },
     "execution_count": 4,
     "metadata": {},
     "output_type": "execute_result"
    }
   ],
   "source": [
    "cell_metadata = pd.read_csv('data/cell_metadata.csv', index_col=0)\n",
    "cluster_names = cell_metadata['cluster_id']\n",
    "cluster_names.head()"
   ]
  },
  {
   "cell_type": "markdown",
   "metadata": {},
   "source": [
    "# Figure 5a"
   ]
  },
  {
   "cell_type": "code",
   "execution_count": 7,
   "metadata": {},
   "outputs": [
    {
     "data": {
      "text/plain": [
       "['NRXN2', 'ATP1B1', 'PAX6', 'SLC32A1', 'SLC6A1', 'ELAVL3']"
      ]
     },
     "execution_count": 7,
     "metadata": {},
     "output_type": "execute_result"
    }
   ],
   "source": [
    "figure5a_genes = ['Nrxn2', 'Atp1b1', 'Pax6', 'Slc32a1', 'Slc6a1', 'Elavl3']\n",
    "figure5a_genes_upper = [gene.upper() for gene in figure5a_genes]\n",
    "figure5a_genes_upper"
   ]
  },
  {
   "cell_type": "code",
   "execution_count": 8,
   "metadata": {},
   "outputs": [
    {
     "name": "stdout",
     "output_type": "stream",
     "text": [
      "(6020, 6)\n"
     ]
    },
    {
     "data": {
      "text/html": [
       "<div>\n",
       "<style scoped>\n",
       "    .dataframe tbody tr th:only-of-type {\n",
       "        vertical-align: middle;\n",
       "    }\n",
       "\n",
       "    .dataframe tbody tr th {\n",
       "        vertical-align: top;\n",
       "    }\n",
       "\n",
       "    .dataframe thead th {\n",
       "        text-align: right;\n",
       "    }\n",
       "</style>\n",
       "<table border=\"1\" class=\"dataframe\">\n",
       "  <thead>\n",
       "    <tr style=\"text-align: right;\">\n",
       "      <th></th>\n",
       "      <th>NRXN2</th>\n",
       "      <th>ATP1B1</th>\n",
       "      <th>PAX6</th>\n",
       "      <th>SLC32A1</th>\n",
       "      <th>SLC6A1</th>\n",
       "      <th>ELAVL3</th>\n",
       "    </tr>\n",
       "  </thead>\n",
       "  <tbody>\n",
       "    <tr>\n",
       "      <th>r1_GGCCGCAGTCCG</th>\n",
       "      <td>16.0</td>\n",
       "      <td>149.0</td>\n",
       "      <td>8.0</td>\n",
       "      <td>0.0</td>\n",
       "      <td>1.0</td>\n",
       "      <td>13.0</td>\n",
       "    </tr>\n",
       "    <tr>\n",
       "      <th>r1_CTTGTGCGGGAA</th>\n",
       "      <td>16.0</td>\n",
       "      <td>182.0</td>\n",
       "      <td>21.0</td>\n",
       "      <td>0.0</td>\n",
       "      <td>10.0</td>\n",
       "      <td>5.0</td>\n",
       "    </tr>\n",
       "    <tr>\n",
       "      <th>r1_GCGCAACTGCTC</th>\n",
       "      <td>7.0</td>\n",
       "      <td>119.0</td>\n",
       "      <td>10.0</td>\n",
       "      <td>0.0</td>\n",
       "      <td>5.0</td>\n",
       "      <td>4.0</td>\n",
       "    </tr>\n",
       "    <tr>\n",
       "      <th>r1_GATTGGGAGGCA</th>\n",
       "      <td>12.0</td>\n",
       "      <td>93.0</td>\n",
       "      <td>7.0</td>\n",
       "      <td>0.0</td>\n",
       "      <td>3.0</td>\n",
       "      <td>7.0</td>\n",
       "    </tr>\n",
       "    <tr>\n",
       "      <th>r1_GTGCCGCCTCTC</th>\n",
       "      <td>0.0</td>\n",
       "      <td>0.0</td>\n",
       "      <td>0.0</td>\n",
       "      <td>0.0</td>\n",
       "      <td>0.0</td>\n",
       "      <td>0.0</td>\n",
       "    </tr>\n",
       "  </tbody>\n",
       "</table>\n",
       "</div>"
      ],
      "text/plain": [
       "                 NRXN2  ATP1B1  PAX6  SLC32A1  SLC6A1  ELAVL3\n",
       "r1_GGCCGCAGTCCG   16.0   149.0   8.0      0.0     1.0    13.0\n",
       "r1_CTTGTGCGGGAA   16.0   182.0  21.0      0.0    10.0     5.0\n",
       "r1_GCGCAACTGCTC    7.0   119.0  10.0      0.0     5.0     4.0\n",
       "r1_GATTGGGAGGCA   12.0    93.0   7.0      0.0     3.0     7.0\n",
       "r1_GTGCCGCCTCTC    0.0     0.0   0.0      0.0     0.0     0.0"
      ]
     },
     "execution_count": 8,
     "metadata": {},
     "output_type": "execute_result"
    }
   ],
   "source": [
    "figure5a_expression = expression.loc[:, figure5a_genes_upper]\n",
    "figure5a_expression = expression[figure5a_genes_upper]\n",
    "print(figure5a_expression.shape)\n",
    "figure5a_expression.head()"
   ]
  },
  {
   "cell_type": "code",
   "execution_count": 9,
   "metadata": {},
   "outputs": [
    {
     "name": "stdout",
     "output_type": "stream",
     "text": [
      "(39, 6)\n"
     ]
    },
    {
     "data": {
      "text/html": [
       "<div>\n",
       "<style scoped>\n",
       "    .dataframe tbody tr th:only-of-type {\n",
       "        vertical-align: middle;\n",
       "    }\n",
       "\n",
       "    .dataframe tbody tr th {\n",
       "        vertical-align: top;\n",
       "    }\n",
       "\n",
       "    .dataframe thead th {\n",
       "        text-align: right;\n",
       "    }\n",
       "</style>\n",
       "<table border=\"1\" class=\"dataframe\">\n",
       "  <thead>\n",
       "    <tr style=\"text-align: right;\">\n",
       "      <th></th>\n",
       "      <th>NRXN2</th>\n",
       "      <th>ATP1B1</th>\n",
       "      <th>PAX6</th>\n",
       "      <th>SLC32A1</th>\n",
       "      <th>SLC6A1</th>\n",
       "      <th>ELAVL3</th>\n",
       "    </tr>\n",
       "    <tr>\n",
       "      <th>cluster_id</th>\n",
       "      <th></th>\n",
       "      <th></th>\n",
       "      <th></th>\n",
       "      <th></th>\n",
       "      <th></th>\n",
       "      <th></th>\n",
       "    </tr>\n",
       "  </thead>\n",
       "  <tbody>\n",
       "    <tr>\n",
       "      <th>cluster_01</th>\n",
       "      <td>2.037037</td>\n",
       "      <td>15.555556</td>\n",
       "      <td>2.074074</td>\n",
       "      <td>1.296296</td>\n",
       "      <td>0.000000</td>\n",
       "      <td>1.629630</td>\n",
       "    </tr>\n",
       "    <tr>\n",
       "      <th>cluster_02</th>\n",
       "      <td>2.385714</td>\n",
       "      <td>27.457143</td>\n",
       "      <td>1.785714</td>\n",
       "      <td>0.000000</td>\n",
       "      <td>0.757143</td>\n",
       "      <td>1.885714</td>\n",
       "    </tr>\n",
       "    <tr>\n",
       "      <th>cluster_03</th>\n",
       "      <td>1.409091</td>\n",
       "      <td>10.772727</td>\n",
       "      <td>1.454545</td>\n",
       "      <td>1.568182</td>\n",
       "      <td>2.090909</td>\n",
       "      <td>1.477273</td>\n",
       "    </tr>\n",
       "    <tr>\n",
       "      <th>cluster_04</th>\n",
       "      <td>1.846154</td>\n",
       "      <td>2.230769</td>\n",
       "      <td>5.692308</td>\n",
       "      <td>0.615385</td>\n",
       "      <td>1.000000</td>\n",
       "      <td>0.846154</td>\n",
       "    </tr>\n",
       "    <tr>\n",
       "      <th>cluster_05</th>\n",
       "      <td>3.222222</td>\n",
       "      <td>10.111111</td>\n",
       "      <td>4.888889</td>\n",
       "      <td>1.944444</td>\n",
       "      <td>3.944444</td>\n",
       "      <td>1.888889</td>\n",
       "    </tr>\n",
       "  </tbody>\n",
       "</table>\n",
       "</div>"
      ],
      "text/plain": [
       "               NRXN2     ATP1B1      PAX6   SLC32A1    SLC6A1    ELAVL3\n",
       "cluster_id                                                             \n",
       "cluster_01  2.037037  15.555556  2.074074  1.296296  0.000000  1.629630\n",
       "cluster_02  2.385714  27.457143  1.785714  0.000000  0.757143  1.885714\n",
       "cluster_03  1.409091  10.772727  1.454545  1.568182  2.090909  1.477273\n",
       "cluster_04  1.846154   2.230769  5.692308  0.615385  1.000000  0.846154\n",
       "cluster_05  3.222222  10.111111  4.888889  1.944444  3.944444  1.888889"
      ]
     },
     "execution_count": 9,
     "metadata": {},
     "output_type": "execute_result"
    }
   ],
   "source": [
    "figure5a_expression_mean = \\\n",
    "    figure5a_expression.groupby(cluster_names, axis=0).mean()\n",
    "print(figure5a_expression_mean.shape)\n",
    "figure5a_expression_mean.head()"
   ]
  },
  {
   "cell_type": "code",
   "execution_count": 10,
   "metadata": {},
   "outputs": [
    {
     "name": "stdout",
     "output_type": "stream",
     "text": [
      "(234, 4)\n"
     ]
    },
    {
     "data": {
      "text/html": [
       "<div>\n",
       "<style scoped>\n",
       "    .dataframe tbody tr th:only-of-type {\n",
       "        vertical-align: middle;\n",
       "    }\n",
       "\n",
       "    .dataframe tbody tr th {\n",
       "        vertical-align: top;\n",
       "    }\n",
       "\n",
       "    .dataframe thead th {\n",
       "        text-align: right;\n",
       "    }\n",
       "</style>\n",
       "<table border=\"1\" class=\"dataframe\">\n",
       "  <thead>\n",
       "    <tr style=\"text-align: right;\">\n",
       "      <th></th>\n",
       "      <th>gene_symbol</th>\n",
       "      <th>cluster_id</th>\n",
       "      <th>expression</th>\n",
       "      <th>log_expression</th>\n",
       "    </tr>\n",
       "  </thead>\n",
       "  <tbody>\n",
       "    <tr>\n",
       "      <th>0</th>\n",
       "      <td>NRXN2</td>\n",
       "      <td>cluster_01</td>\n",
       "      <td>2.037037</td>\n",
       "      <td>1.602665</td>\n",
       "    </tr>\n",
       "    <tr>\n",
       "      <th>1</th>\n",
       "      <td>NRXN2</td>\n",
       "      <td>cluster_02</td>\n",
       "      <td>2.385714</td>\n",
       "      <td>1.759460</td>\n",
       "    </tr>\n",
       "    <tr>\n",
       "      <th>2</th>\n",
       "      <td>NRXN2</td>\n",
       "      <td>cluster_03</td>\n",
       "      <td>1.409091</td>\n",
       "      <td>1.268489</td>\n",
       "    </tr>\n",
       "    <tr>\n",
       "      <th>3</th>\n",
       "      <td>NRXN2</td>\n",
       "      <td>cluster_04</td>\n",
       "      <td>1.846154</td>\n",
       "      <td>1.509014</td>\n",
       "    </tr>\n",
       "    <tr>\n",
       "      <th>4</th>\n",
       "      <td>NRXN2</td>\n",
       "      <td>cluster_05</td>\n",
       "      <td>3.222222</td>\n",
       "      <td>2.078003</td>\n",
       "    </tr>\n",
       "  </tbody>\n",
       "</table>\n",
       "</div>"
      ],
      "text/plain": [
       "  gene_symbol  cluster_id  expression  log_expression\n",
       "0       NRXN2  cluster_01    2.037037        1.602665\n",
       "1       NRXN2  cluster_02    2.385714        1.759460\n",
       "2       NRXN2  cluster_03    1.409091        1.268489\n",
       "3       NRXN2  cluster_04    1.846154        1.509014\n",
       "4       NRXN2  cluster_05    3.222222        2.078003"
      ]
     },
     "execution_count": 10,
     "metadata": {},
     "output_type": "execute_result"
    }
   ],
   "source": [
    "figure5a_expression_tidy = figure5a_expression_mean.unstack().reset_index()\n",
    "figure5a_expression_tidy = figure5a_expression_tidy.rename(\n",
    "    columns={'level_0': 'gene_symbol', 'level_1': 'barcode', 0: 'expression'})\n",
    "figure5a_expression_tidy['log_expression'] = np.log2(figure5a_expression_tidy['expression'] + 1)\n",
    "print(figure5a_expression_tidy.shape)\n",
    "# figure5a_expression_tidy = figure5a_expression_tidy.join(cluster_names, on='barcode')\n",
    "figure5a_expression_tidy.head()"
   ]
  },
  {
   "cell_type": "code",
   "execution_count": 11,
   "metadata": {},
   "outputs": [],
   "source": [
    "figure5a_expression_tidy = figure5a_expression_tidy[\n",
    "    figure5a_expression_tidy['cluster_id'].isin(['cluster_{}'.format(str(x).zfill(2)) for x in range(3, 24)])\n",
    "]"
   ]
  },
  {
   "cell_type": "code",
   "execution_count": 12,
   "metadata": {},
   "outputs": [
    {
     "data": {
      "text/html": [
       "\n",
       "<div id=\"altair-viz-49540dfc45e14f8c9590950b7aa10e89\"></div>\n",
       "<script type=\"text/javascript\">\n",
       "  (function(spec, embedOpt){\n",
       "    let outputDiv = document.currentScript.previousElementSibling;\n",
       "    if (outputDiv.id !== \"altair-viz-49540dfc45e14f8c9590950b7aa10e89\") {\n",
       "      outputDiv = document.getElementById(\"altair-viz-49540dfc45e14f8c9590950b7aa10e89\");\n",
       "    }\n",
       "    const paths = {\n",
       "      \"vega\": \"https://cdn.jsdelivr.net/npm//vega@5?noext\",\n",
       "      \"vega-lib\": \"https://cdn.jsdelivr.net/npm//vega-lib?noext\",\n",
       "      \"vega-lite\": \"https://cdn.jsdelivr.net/npm//vega-lite@4.8.1?noext\",\n",
       "      \"vega-embed\": \"https://cdn.jsdelivr.net/npm//vega-embed@6?noext\",\n",
       "    };\n",
       "\n",
       "    function loadScript(lib) {\n",
       "      return new Promise(function(resolve, reject) {\n",
       "        var s = document.createElement('script');\n",
       "        s.src = paths[lib];\n",
       "        s.async = true;\n",
       "        s.onload = () => resolve(paths[lib]);\n",
       "        s.onerror = () => reject(`Error loading script: ${paths[lib]}`);\n",
       "        document.getElementsByTagName(\"head\")[0].appendChild(s);\n",
       "      });\n",
       "    }\n",
       "\n",
       "    function showError(err) {\n",
       "      outputDiv.innerHTML = `<div class=\"error\" style=\"color:red;\">${err}</div>`;\n",
       "      throw err;\n",
       "    }\n",
       "\n",
       "    function displayChart(vegaEmbed) {\n",
       "      vegaEmbed(outputDiv, spec, embedOpt)\n",
       "        .catch(err => showError(`Javascript Error: ${err.message}<br>This usually means there's a typo in your chart specification. See the javascript console for the full traceback.`));\n",
       "    }\n",
       "\n",
       "    if(typeof define === \"function\" && define.amd) {\n",
       "      requirejs.config({paths});\n",
       "      require([\"vega-embed\"], displayChart, err => showError(`Error loading script: ${err.message}`));\n",
       "    } else if (typeof vegaEmbed === \"function\") {\n",
       "      displayChart(vegaEmbed);\n",
       "    } else {\n",
       "      loadScript(\"vega\")\n",
       "        .then(() => loadScript(\"vega-lite\"))\n",
       "        .then(() => loadScript(\"vega-embed\"))\n",
       "        .catch(showError)\n",
       "        .then(() => displayChart(vegaEmbed));\n",
       "    }\n",
       "  })({\"config\": {\"view\": {\"continuousWidth\": 400, \"continuousHeight\": 300}}, \"data\": {\"name\": \"data-1c5128977a3feb851277b8301aa03e2a\"}, \"mark\": \"circle\", \"encoding\": {\"size\": {\"type\": \"quantitative\", \"field\": \"expression\"}, \"x\": {\"type\": \"nominal\", \"field\": \"gene_symbol\"}, \"y\": {\"type\": \"nominal\", \"field\": \"cluster_id\"}}, \"$schema\": \"https://vega.github.io/schema/vega-lite/v4.8.1.json\", \"datasets\": {\"data-1c5128977a3feb851277b8301aa03e2a\": [{\"gene_symbol\": \"NRXN2\", \"cluster_id\": \"cluster_03\", \"expression\": 1.4090909090909092, \"log_expression\": 1.268488835925902}, {\"gene_symbol\": \"NRXN2\", \"cluster_id\": \"cluster_04\", \"expression\": 1.8461538461538463, \"log_expression\": 1.5090136474878577}, {\"gene_symbol\": \"NRXN2\", \"cluster_id\": \"cluster_05\", \"expression\": 3.2222222222222223, \"log_expression\": 2.078002512001273}, {\"gene_symbol\": \"NRXN2\", \"cluster_id\": \"cluster_06\", \"expression\": 5.666666666666667, \"log_expression\": 2.736965594166206}, {\"gene_symbol\": \"NRXN2\", \"cluster_id\": \"cluster_07\", \"expression\": 4.814814814814815, \"log_expression\": 2.5397332467281584}, {\"gene_symbol\": \"NRXN2\", \"cluster_id\": \"cluster_08\", \"expression\": 2.3043478260869565, \"log_expression\": 1.7243655573865726}, {\"gene_symbol\": \"NRXN2\", \"cluster_id\": \"cluster_09\", \"expression\": 4.714285714285714, \"log_expression\": 2.5145731728297585}, {\"gene_symbol\": \"NRXN2\", \"cluster_id\": \"cluster_10\", \"expression\": 1.7241379310344827, \"log_expression\": 1.4457997530495308}, {\"gene_symbol\": \"NRXN2\", \"cluster_id\": \"cluster_11\", \"expression\": 1.903225806451613, \"log_expression\": 1.5376567859427994}, {\"gene_symbol\": \"NRXN2\", \"cluster_id\": \"cluster_12\", \"expression\": 1.0, \"log_expression\": 1.0}, {\"gene_symbol\": \"NRXN2\", \"cluster_id\": \"cluster_13\", \"expression\": 3.090909090909091, \"log_expression\": 2.0324214776923775}, {\"gene_symbol\": \"NRXN2\", \"cluster_id\": \"cluster_14\", \"expression\": 4.0, \"log_expression\": 2.321928094887362}, {\"gene_symbol\": \"NRXN2\", \"cluster_id\": \"cluster_15\", \"expression\": 0.9230769230769231, \"log_expression\": 0.9434164716336326}, {\"gene_symbol\": \"NRXN2\", \"cluster_id\": \"cluster_16\", \"expression\": 1.1111111111111112, \"log_expression\": 1.078002512001273}, {\"gene_symbol\": \"NRXN2\", \"cluster_id\": \"cluster_17\", \"expression\": 0.7222222222222222, \"log_expression\": 0.784271308944563}, {\"gene_symbol\": \"NRXN2\", \"cluster_id\": \"cluster_18\", \"expression\": 0.8571428571428571, \"log_expression\": 0.8930847960834881}, {\"gene_symbol\": \"NRXN2\", \"cluster_id\": \"cluster_19\", \"expression\": 2.736842105263158, \"log_expression\": 1.9018196060610966}, {\"gene_symbol\": \"NRXN2\", \"cluster_id\": \"cluster_20\", \"expression\": 0.453125, \"log_expression\": 0.5391588111080314}, {\"gene_symbol\": \"NRXN2\", \"cluster_id\": \"cluster_21\", \"expression\": 0.6808510638297872, \"log_expression\": 0.7491918964994656}, {\"gene_symbol\": \"NRXN2\", \"cluster_id\": \"cluster_22\", \"expression\": 0.9565217391304348, \"log_expression\": 0.9682911402726618}, {\"gene_symbol\": \"NRXN2\", \"cluster_id\": \"cluster_23\", \"expression\": 0.6666666666666666, \"log_expression\": 0.736965594166206}, {\"gene_symbol\": \"ATP1B1\", \"cluster_id\": \"cluster_03\", \"expression\": 10.772727272727273, \"log_expression\": 3.5573766690492565}, {\"gene_symbol\": \"ATP1B1\", \"cluster_id\": \"cluster_04\", \"expression\": 2.230769230769231, \"log_expression\": 1.691877704637668}, {\"gene_symbol\": \"ATP1B1\", \"cluster_id\": \"cluster_05\", \"expression\": 10.11111111111111, \"log_expression\": 3.473931188332412}, {\"gene_symbol\": \"ATP1B1\", \"cluster_id\": \"cluster_06\", \"expression\": 8.619047619047619, \"log_expression\": 3.2658940599730344}, {\"gene_symbol\": \"ATP1B1\", \"cluster_id\": \"cluster_07\", \"expression\": 8.74074074074074, \"log_expression\": 3.284031487128834}, {\"gene_symbol\": \"ATP1B1\", \"cluster_id\": \"cluster_08\", \"expression\": 9.217391304347826, \"log_expression\": 3.3529549905079867}, {\"gene_symbol\": \"ATP1B1\", \"cluster_id\": \"cluster_09\", \"expression\": 17.11904761904762, \"log_expression\": 4.179435220724785}, {\"gene_symbol\": \"ATP1B1\", \"cluster_id\": \"cluster_10\", \"expression\": 8.482758620689655, \"log_expression\": 3.24530681328445}, {\"gene_symbol\": \"ATP1B1\", \"cluster_id\": \"cluster_11\", \"expression\": 6.870967741935484, \"log_expression\": 2.976541027176011}, {\"gene_symbol\": \"ATP1B1\", \"cluster_id\": \"cluster_12\", \"expression\": 3.765957446808511, \"log_expression\": 2.2527660703799666}, {\"gene_symbol\": \"ATP1B1\", \"cluster_id\": \"cluster_13\", \"expression\": 9.636363636363637, \"log_expression\": 3.4109331009461075}, {\"gene_symbol\": \"ATP1B1\", \"cluster_id\": \"cluster_14\", \"expression\": 10.0, \"log_expression\": 3.4594316186372973}, {\"gene_symbol\": \"ATP1B1\", \"cluster_id\": \"cluster_15\", \"expression\": 1.9230769230769231, \"log_expression\": 1.5474877953024935}, {\"gene_symbol\": \"ATP1B1\", \"cluster_id\": \"cluster_16\", \"expression\": 7.444444444444445, \"log_expression\": 3.078002512001273}, {\"gene_symbol\": \"ATP1B1\", \"cluster_id\": \"cluster_17\", \"expression\": 2.875, \"log_expression\": 1.9541963103868751}, {\"gene_symbol\": \"ATP1B1\", \"cluster_id\": \"cluster_18\", \"expression\": 4.714285714285714, \"log_expression\": 2.5145731728297585}, {\"gene_symbol\": \"ATP1B1\", \"cluster_id\": \"cluster_19\", \"expression\": 5.7368421052631575, \"log_expression\": 2.7520724865564143}, {\"gene_symbol\": \"ATP1B1\", \"cluster_id\": \"cluster_20\", \"expression\": 0.84375, \"log_expression\": 0.8826430493618412}, {\"gene_symbol\": \"ATP1B1\", \"cluster_id\": \"cluster_21\", \"expression\": 1.4680851063829787, \"log_expression\": 1.3033921434499347}, {\"gene_symbol\": \"ATP1B1\", \"cluster_id\": \"cluster_22\", \"expression\": 1.0869565217391304, \"log_expression\": 1.0614005446641432}, {\"gene_symbol\": \"ATP1B1\", \"cluster_id\": \"cluster_23\", \"expression\": 1.641025641025641, \"log_expression\": 1.40109830832097}, {\"gene_symbol\": \"PAX6\", \"cluster_id\": \"cluster_03\", \"expression\": 1.4545454545454546, \"log_expression\": 1.2954558835261714}, {\"gene_symbol\": \"PAX6\", \"cluster_id\": \"cluster_04\", \"expression\": 5.6923076923076925, \"log_expression\": 2.742503777707636}, {\"gene_symbol\": \"PAX6\", \"cluster_id\": \"cluster_05\", \"expression\": 4.888888888888889, \"log_expression\": 2.557995453120887}, {\"gene_symbol\": \"PAX6\", \"cluster_id\": \"cluster_06\", \"expression\": 6.404761904761905, \"log_expression\": 2.888453347351842}, {\"gene_symbol\": \"PAX6\", \"cluster_id\": \"cluster_07\", \"expression\": 6.296296296296297, \"log_expression\": 2.8671643172929078}, {\"gene_symbol\": \"PAX6\", \"cluster_id\": \"cluster_08\", \"expression\": 2.9565217391304346, \"log_expression\": 1.9842326841416833}, {\"gene_symbol\": \"PAX6\", \"cluster_id\": \"cluster_09\", \"expression\": 4.833333333333333, \"log_expression\": 2.5443205162238103}, {\"gene_symbol\": \"PAX6\", \"cluster_id\": \"cluster_10\", \"expression\": 3.7586206896551726, \"log_expression\": 2.250543461650597}, {\"gene_symbol\": \"PAX6\", \"cluster_id\": \"cluster_11\", \"expression\": 3.7419354838709675, \"log_expression\": 2.245476034449489}, {\"gene_symbol\": \"PAX6\", \"cluster_id\": \"cluster_12\", \"expression\": 3.617021276595745, \"log_expression\": 2.206962380766842}, {\"gene_symbol\": \"PAX6\", \"cluster_id\": \"cluster_13\", \"expression\": 4.909090909090909, \"log_expression\": 2.562936194391157}, {\"gene_symbol\": \"PAX6\", \"cluster_id\": \"cluster_14\", \"expression\": 2.8, \"log_expression\": 1.925999418556223}, {\"gene_symbol\": \"PAX6\", \"cluster_id\": \"cluster_15\", \"expression\": 1.0769230769230769, \"log_expression\": 1.0544477840223763}, {\"gene_symbol\": \"PAX6\", \"cluster_id\": \"cluster_16\", \"expression\": 1.5277777777777777, \"log_expression\": 1.3378696387563838}, {\"gene_symbol\": \"PAX6\", \"cluster_id\": \"cluster_17\", \"expression\": 2.25, \"log_expression\": 1.7004397181410922}, {\"gene_symbol\": \"PAX6\", \"cluster_id\": \"cluster_18\", \"expression\": 1.5, \"log_expression\": 1.3219280948873624}, {\"gene_symbol\": \"PAX6\", \"cluster_id\": \"cluster_19\", \"expression\": 3.1578947368421053, \"log_expression\": 2.0558532347335174}, {\"gene_symbol\": \"PAX6\", \"cluster_id\": \"cluster_20\", \"expression\": 0.84375, \"log_expression\": 0.8826430493618412}, {\"gene_symbol\": \"PAX6\", \"cluster_id\": \"cluster_21\", \"expression\": 0.9361702127659575, \"log_expression\": 0.9532057885210589}, {\"gene_symbol\": \"PAX6\", \"cluster_id\": \"cluster_22\", \"expression\": 1.5434782608695652, \"log_expression\": 1.3468027635263917}, {\"gene_symbol\": \"PAX6\", \"cluster_id\": \"cluster_23\", \"expression\": 1.794871794871795, \"log_expression\": 1.482782105914678}, {\"gene_symbol\": \"SLC32A1\", \"cluster_id\": \"cluster_03\", \"expression\": 1.5681818181818181, \"log_expression\": 1.3607473437778905}, {\"gene_symbol\": \"SLC32A1\", \"cluster_id\": \"cluster_04\", \"expression\": 0.6153846153846154, \"log_expression\": 0.6918777046376681}, {\"gene_symbol\": \"SLC32A1\", \"cluster_id\": \"cluster_05\", \"expression\": 1.9444444444444444, \"log_expression\": 1.5579954531208868}, {\"gene_symbol\": \"SLC32A1\", \"cluster_id\": \"cluster_06\", \"expression\": 2.119047619047619, \"log_expression\": 1.64110557875869}, {\"gene_symbol\": \"SLC32A1\", \"cluster_id\": \"cluster_07\", \"expression\": 1.9814814814814814, \"log_expression\": 1.5760293759511483}, {\"gene_symbol\": \"SLC32A1\", \"cluster_id\": \"cluster_08\", \"expression\": 2.130434782608696, \"log_expression\": 1.6463630453852995}, {\"gene_symbol\": \"SLC32A1\", \"cluster_id\": \"cluster_09\", \"expression\": 1.880952380952381, \"log_expression\": 1.5265458144958342}, {\"gene_symbol\": \"SLC32A1\", \"cluster_id\": \"cluster_10\", \"expression\": 1.896551724137931, \"log_expression\": 1.5343364276511882}, {\"gene_symbol\": \"SLC32A1\", \"cluster_id\": \"cluster_11\", \"expression\": 0.8064516129032258, \"log_expression\": 0.8531586116707288}, {\"gene_symbol\": \"SLC32A1\", \"cluster_id\": \"cluster_12\", \"expression\": 0.9787234042553191, \"log_expression\": 0.9845699594303939}, {\"gene_symbol\": \"SLC32A1\", \"cluster_id\": \"cluster_13\", \"expression\": 3.0, \"log_expression\": 2.0}, {\"gene_symbol\": \"SLC32A1\", \"cluster_id\": \"cluster_14\", \"expression\": 1.1, \"log_expression\": 1.070389327891398}, {\"gene_symbol\": \"SLC32A1\", \"cluster_id\": \"cluster_15\", \"expression\": 0.46153846153846156, \"log_expression\": 0.5474877953024935}, {\"gene_symbol\": \"SLC32A1\", \"cluster_id\": \"cluster_16\", \"expression\": 1.1388888888888888, \"log_expression\": 1.096861539252589}, {\"gene_symbol\": \"SLC32A1\", \"cluster_id\": \"cluster_17\", \"expression\": 1.1111111111111112, \"log_expression\": 1.078002512001273}, {\"gene_symbol\": \"SLC32A1\", \"cluster_id\": \"cluster_18\", \"expression\": 1.9285714285714286, \"log_expression\": 1.5501970825604796}, {\"gene_symbol\": \"SLC32A1\", \"cluster_id\": \"cluster_19\", \"expression\": 1.0, \"log_expression\": 1.0}, {\"gene_symbol\": \"SLC32A1\", \"cluster_id\": \"cluster_20\", \"expression\": 0.375, \"log_expression\": 0.45943161863729726}, {\"gene_symbol\": \"SLC32A1\", \"cluster_id\": \"cluster_21\", \"expression\": 0.7872340425531915, \"log_expression\": 0.8377285711011229}, {\"gene_symbol\": \"SLC32A1\", \"cluster_id\": \"cluster_22\", \"expression\": 0.6739130434782609, \"log_expression\": 0.7432245846378884}, {\"gene_symbol\": \"SLC32A1\", \"cluster_id\": \"cluster_23\", \"expression\": 0.9743589743589743, \"log_expression\": 0.9813843218326531}, {\"gene_symbol\": \"SLC6A1\", \"cluster_id\": \"cluster_03\", \"expression\": 2.090909090909091, \"log_expression\": 1.6280312226130422}, {\"gene_symbol\": \"SLC6A1\", \"cluster_id\": \"cluster_04\", \"expression\": 1.0, \"log_expression\": 1.0}, {\"gene_symbol\": \"SLC6A1\", \"cluster_id\": \"cluster_05\", \"expression\": 3.9444444444444446, \"log_expression\": 2.3058084295240855}, {\"gene_symbol\": \"SLC6A1\", \"cluster_id\": \"cluster_06\", \"expression\": 4.238095238095238, \"log_expression\": 2.3890422907458992}, {\"gene_symbol\": \"SLC6A1\", \"cluster_id\": \"cluster_07\", \"expression\": 3.759259259259259, \"log_expression\": 2.2507370470304098}, {\"gene_symbol\": \"SLC6A1\", \"cluster_id\": \"cluster_08\", \"expression\": 2.782608695652174, \"log_expression\": 1.9193815397917153}, {\"gene_symbol\": \"SLC6A1\", \"cluster_id\": \"cluster_09\", \"expression\": 5.095238095238095, \"log_expression\": 2.6076825772212398}, {\"gene_symbol\": \"SLC6A1\", \"cluster_id\": \"cluster_10\", \"expression\": 5.344827586206897, \"log_expression\": 2.6655809609294407}, {\"gene_symbol\": \"SLC6A1\", \"cluster_id\": \"cluster_11\", \"expression\": 3.903225806451613, \"log_expression\": 2.2937312030567103}, {\"gene_symbol\": \"SLC6A1\", \"cluster_id\": \"cluster_12\", \"expression\": 3.4893617021276597, \"log_expression\": 2.166510337029548}, {\"gene_symbol\": \"SLC6A1\", \"cluster_id\": \"cluster_13\", \"expression\": 11.272727272727273, \"log_expression\": 3.6173839784135335}, {\"gene_symbol\": \"SLC6A1\", \"cluster_id\": \"cluster_14\", \"expression\": 0.2, \"log_expression\": 0.2630344058337938}, {\"gene_symbol\": \"SLC6A1\", \"cluster_id\": \"cluster_15\", \"expression\": 0.07692307692307693, \"log_expression\": 0.1069152039165119}, {\"gene_symbol\": \"SLC6A1\", \"cluster_id\": \"cluster_16\", \"expression\": 0.0, \"log_expression\": 0.0}, {\"gene_symbol\": \"SLC6A1\", \"cluster_id\": \"cluster_17\", \"expression\": 0.027777777777777776, \"log_expression\": 0.03952836418663728}, {\"gene_symbol\": \"SLC6A1\", \"cluster_id\": \"cluster_18\", \"expression\": 0.0, \"log_expression\": 0.0}, {\"gene_symbol\": \"SLC6A1\", \"cluster_id\": \"cluster_19\", \"expression\": 1.105263157894737, \"log_expression\": 1.074000581443777}, {\"gene_symbol\": \"SLC6A1\", \"cluster_id\": \"cluster_20\", \"expression\": 0.0, \"log_expression\": 0.0}, {\"gene_symbol\": \"SLC6A1\", \"cluster_id\": \"cluster_21\", \"expression\": 0.0425531914893617, \"log_expression\": 0.06012099243757093}, {\"gene_symbol\": \"SLC6A1\", \"cluster_id\": \"cluster_22\", \"expression\": 1.4782608695652173, \"log_expression\": 1.3093280581077287}, {\"gene_symbol\": \"SLC6A1\", \"cluster_id\": \"cluster_23\", \"expression\": 3.8205128205128207, \"log_expression\": 2.2691866328153893}, {\"gene_symbol\": \"ELAVL3\", \"cluster_id\": \"cluster_03\", \"expression\": 1.4772727272727273, \"log_expression\": 1.3087527061396294}, {\"gene_symbol\": \"ELAVL3\", \"cluster_id\": \"cluster_04\", \"expression\": 0.8461538461538461, \"log_expression\": 0.8845227825800641}, {\"gene_symbol\": \"ELAVL3\", \"cluster_id\": \"cluster_05\", \"expression\": 1.8888888888888888, \"log_expression\": 1.5305147166987798}, {\"gene_symbol\": \"ELAVL3\", \"cluster_id\": \"cluster_06\", \"expression\": 2.2142857142857144, \"log_expression\": 1.6844981742720706}, {\"gene_symbol\": \"ELAVL3\", \"cluster_id\": \"cluster_07\", \"expression\": 2.7037037037037037, \"log_expression\": 1.8889686876112561}, {\"gene_symbol\": \"ELAVL3\", \"cluster_id\": \"cluster_08\", \"expression\": 1.3478260869565217, \"log_expression\": 1.2313255461064556}, {\"gene_symbol\": \"ELAVL3\", \"cluster_id\": \"cluster_09\", \"expression\": 2.6904761904761907, \"log_expression\": 1.8838069824954773}, {\"gene_symbol\": \"ELAVL3\", \"cluster_id\": \"cluster_10\", \"expression\": 1.8620689655172413, \"log_expression\": 1.5170584362193524}, {\"gene_symbol\": \"ELAVL3\", \"cluster_id\": \"cluster_11\", \"expression\": 1.5161290322580645, \"log_expression\": 1.3312059084753731}, {\"gene_symbol\": \"ELAVL3\", \"cluster_id\": \"cluster_12\", \"expression\": 1.1063829787234043, \"log_expression\": 1.0747677684019725}, {\"gene_symbol\": \"ELAVL3\", \"cluster_id\": \"cluster_13\", \"expression\": 2.0, \"log_expression\": 1.584962500721156}, {\"gene_symbol\": \"ELAVL3\", \"cluster_id\": \"cluster_14\", \"expression\": 1.1, \"log_expression\": 1.070389327891398}, {\"gene_symbol\": \"ELAVL3\", \"cluster_id\": \"cluster_15\", \"expression\": 1.5384615384615385, \"log_expression\": 1.3439544012173612}, {\"gene_symbol\": \"ELAVL3\", \"cluster_id\": \"cluster_16\", \"expression\": 1.6944444444444444, \"log_expression\": 1.4299878407448154}, {\"gene_symbol\": \"ELAVL3\", \"cluster_id\": \"cluster_17\", \"expression\": 1.7916666666666667, \"log_expression\": 1.4811266897366164}, {\"gene_symbol\": \"ELAVL3\", \"cluster_id\": \"cluster_18\", \"expression\": 1.2857142857142858, \"log_expression\": 1.1926450779423958}, {\"gene_symbol\": \"ELAVL3\", \"cluster_id\": \"cluster_19\", \"expression\": 1.9473684210526316, \"log_expression\": 1.5594274086140187}, {\"gene_symbol\": \"ELAVL3\", \"cluster_id\": \"cluster_20\", \"expression\": 1.0625, \"log_expression\": 1.0443941193584534}, {\"gene_symbol\": \"ELAVL3\", \"cluster_id\": \"cluster_21\", \"expression\": 2.0425531914893615, \"log_expression\": 1.6052824851007519}, {\"gene_symbol\": \"ELAVL3\", \"cluster_id\": \"cluster_22\", \"expression\": 0.8478260869565217, \"log_expression\": 0.8858289800806889}, {\"gene_symbol\": \"ELAVL3\", \"cluster_id\": \"cluster_23\", \"expression\": 1.358974358974359, \"log_expression\": 1.2381597371947646}]}}, {\"mode\": \"vega-lite\"});\n",
       "</script>"
      ],
      "text/plain": [
       "alt.Chart(...)"
      ]
     },
     "execution_count": 12,
     "metadata": {},
     "output_type": "execute_result"
    }
   ],
   "source": [
    "altair.Chart(figure5a_expression_tidy).mark_circle().encode(\n",
    "    size='expression', x=altair.X('gene_symbol'), y=altair.Y('cluster_id'))"
   ]
  },
  {
   "cell_type": "code",
   "execution_count": 13,
   "metadata": {},
   "outputs": [
    {
     "data": {
      "text/html": [
       "\n",
       "<div id=\"altair-viz-5cafb72f3de9475387e885b911d11ff2\"></div>\n",
       "<script type=\"text/javascript\">\n",
       "  (function(spec, embedOpt){\n",
       "    let outputDiv = document.currentScript.previousElementSibling;\n",
       "    if (outputDiv.id !== \"altair-viz-5cafb72f3de9475387e885b911d11ff2\") {\n",
       "      outputDiv = document.getElementById(\"altair-viz-5cafb72f3de9475387e885b911d11ff2\");\n",
       "    }\n",
       "    const paths = {\n",
       "      \"vega\": \"https://cdn.jsdelivr.net/npm//vega@5?noext\",\n",
       "      \"vega-lib\": \"https://cdn.jsdelivr.net/npm//vega-lib?noext\",\n",
       "      \"vega-lite\": \"https://cdn.jsdelivr.net/npm//vega-lite@4.8.1?noext\",\n",
       "      \"vega-embed\": \"https://cdn.jsdelivr.net/npm//vega-embed@6?noext\",\n",
       "    };\n",
       "\n",
       "    function loadScript(lib) {\n",
       "      return new Promise(function(resolve, reject) {\n",
       "        var s = document.createElement('script');\n",
       "        s.src = paths[lib];\n",
       "        s.async = true;\n",
       "        s.onload = () => resolve(paths[lib]);\n",
       "        s.onerror = () => reject(`Error loading script: ${paths[lib]}`);\n",
       "        document.getElementsByTagName(\"head\")[0].appendChild(s);\n",
       "      });\n",
       "    }\n",
       "\n",
       "    function showError(err) {\n",
       "      outputDiv.innerHTML = `<div class=\"error\" style=\"color:red;\">${err}</div>`;\n",
       "      throw err;\n",
       "    }\n",
       "\n",
       "    function displayChart(vegaEmbed) {\n",
       "      vegaEmbed(outputDiv, spec, embedOpt)\n",
       "        .catch(err => showError(`Javascript Error: ${err.message}<br>This usually means there's a typo in your chart specification. See the javascript console for the full traceback.`));\n",
       "    }\n",
       "\n",
       "    if(typeof define === \"function\" && define.amd) {\n",
       "      requirejs.config({paths});\n",
       "      require([\"vega-embed\"], displayChart, err => showError(`Error loading script: ${err.message}`));\n",
       "    } else if (typeof vegaEmbed === \"function\") {\n",
       "      displayChart(vegaEmbed);\n",
       "    } else {\n",
       "      loadScript(\"vega\")\n",
       "        .then(() => loadScript(\"vega-lite\"))\n",
       "        .then(() => loadScript(\"vega-embed\"))\n",
       "        .catch(showError)\n",
       "        .then(() => displayChart(vegaEmbed));\n",
       "    }\n",
       "  })({\"config\": {\"view\": {\"continuousWidth\": 400, \"continuousHeight\": 300}}, \"data\": {\"name\": \"data-1c5128977a3feb851277b8301aa03e2a\"}, \"mark\": \"circle\", \"encoding\": {\"size\": {\"type\": \"quantitative\", \"field\": \"log_expression\"}, \"x\": {\"type\": \"nominal\", \"field\": \"gene_symbol\"}, \"y\": {\"type\": \"nominal\", \"field\": \"cluster_id\"}}, \"$schema\": \"https://vega.github.io/schema/vega-lite/v4.8.1.json\", \"datasets\": {\"data-1c5128977a3feb851277b8301aa03e2a\": [{\"gene_symbol\": \"NRXN2\", \"cluster_id\": \"cluster_03\", \"expression\": 1.4090909090909092, \"log_expression\": 1.268488835925902}, {\"gene_symbol\": \"NRXN2\", \"cluster_id\": \"cluster_04\", \"expression\": 1.8461538461538463, \"log_expression\": 1.5090136474878577}, {\"gene_symbol\": \"NRXN2\", \"cluster_id\": \"cluster_05\", \"expression\": 3.2222222222222223, \"log_expression\": 2.078002512001273}, {\"gene_symbol\": \"NRXN2\", \"cluster_id\": \"cluster_06\", \"expression\": 5.666666666666667, \"log_expression\": 2.736965594166206}, {\"gene_symbol\": \"NRXN2\", \"cluster_id\": \"cluster_07\", \"expression\": 4.814814814814815, \"log_expression\": 2.5397332467281584}, {\"gene_symbol\": \"NRXN2\", \"cluster_id\": \"cluster_08\", \"expression\": 2.3043478260869565, \"log_expression\": 1.7243655573865726}, {\"gene_symbol\": \"NRXN2\", \"cluster_id\": \"cluster_09\", \"expression\": 4.714285714285714, \"log_expression\": 2.5145731728297585}, {\"gene_symbol\": \"NRXN2\", \"cluster_id\": \"cluster_10\", \"expression\": 1.7241379310344827, \"log_expression\": 1.4457997530495308}, {\"gene_symbol\": \"NRXN2\", \"cluster_id\": \"cluster_11\", \"expression\": 1.903225806451613, \"log_expression\": 1.5376567859427994}, {\"gene_symbol\": \"NRXN2\", \"cluster_id\": \"cluster_12\", \"expression\": 1.0, \"log_expression\": 1.0}, {\"gene_symbol\": \"NRXN2\", \"cluster_id\": \"cluster_13\", \"expression\": 3.090909090909091, \"log_expression\": 2.0324214776923775}, {\"gene_symbol\": \"NRXN2\", \"cluster_id\": \"cluster_14\", \"expression\": 4.0, \"log_expression\": 2.321928094887362}, {\"gene_symbol\": \"NRXN2\", \"cluster_id\": \"cluster_15\", \"expression\": 0.9230769230769231, \"log_expression\": 0.9434164716336326}, {\"gene_symbol\": \"NRXN2\", \"cluster_id\": \"cluster_16\", \"expression\": 1.1111111111111112, \"log_expression\": 1.078002512001273}, {\"gene_symbol\": \"NRXN2\", \"cluster_id\": \"cluster_17\", \"expression\": 0.7222222222222222, \"log_expression\": 0.784271308944563}, {\"gene_symbol\": \"NRXN2\", \"cluster_id\": \"cluster_18\", \"expression\": 0.8571428571428571, \"log_expression\": 0.8930847960834881}, {\"gene_symbol\": \"NRXN2\", \"cluster_id\": \"cluster_19\", \"expression\": 2.736842105263158, \"log_expression\": 1.9018196060610966}, {\"gene_symbol\": \"NRXN2\", \"cluster_id\": \"cluster_20\", \"expression\": 0.453125, \"log_expression\": 0.5391588111080314}, {\"gene_symbol\": \"NRXN2\", \"cluster_id\": \"cluster_21\", \"expression\": 0.6808510638297872, \"log_expression\": 0.7491918964994656}, {\"gene_symbol\": \"NRXN2\", \"cluster_id\": \"cluster_22\", \"expression\": 0.9565217391304348, \"log_expression\": 0.9682911402726618}, {\"gene_symbol\": \"NRXN2\", \"cluster_id\": \"cluster_23\", \"expression\": 0.6666666666666666, \"log_expression\": 0.736965594166206}, {\"gene_symbol\": \"ATP1B1\", \"cluster_id\": \"cluster_03\", \"expression\": 10.772727272727273, \"log_expression\": 3.5573766690492565}, {\"gene_symbol\": \"ATP1B1\", \"cluster_id\": \"cluster_04\", \"expression\": 2.230769230769231, \"log_expression\": 1.691877704637668}, {\"gene_symbol\": \"ATP1B1\", \"cluster_id\": \"cluster_05\", \"expression\": 10.11111111111111, \"log_expression\": 3.473931188332412}, {\"gene_symbol\": \"ATP1B1\", \"cluster_id\": \"cluster_06\", \"expression\": 8.619047619047619, \"log_expression\": 3.2658940599730344}, {\"gene_symbol\": \"ATP1B1\", \"cluster_id\": \"cluster_07\", \"expression\": 8.74074074074074, \"log_expression\": 3.284031487128834}, {\"gene_symbol\": \"ATP1B1\", \"cluster_id\": \"cluster_08\", \"expression\": 9.217391304347826, \"log_expression\": 3.3529549905079867}, {\"gene_symbol\": \"ATP1B1\", \"cluster_id\": \"cluster_09\", \"expression\": 17.11904761904762, \"log_expression\": 4.179435220724785}, {\"gene_symbol\": \"ATP1B1\", \"cluster_id\": \"cluster_10\", \"expression\": 8.482758620689655, \"log_expression\": 3.24530681328445}, {\"gene_symbol\": \"ATP1B1\", \"cluster_id\": \"cluster_11\", \"expression\": 6.870967741935484, \"log_expression\": 2.976541027176011}, {\"gene_symbol\": \"ATP1B1\", \"cluster_id\": \"cluster_12\", \"expression\": 3.765957446808511, \"log_expression\": 2.2527660703799666}, {\"gene_symbol\": \"ATP1B1\", \"cluster_id\": \"cluster_13\", \"expression\": 9.636363636363637, \"log_expression\": 3.4109331009461075}, {\"gene_symbol\": \"ATP1B1\", \"cluster_id\": \"cluster_14\", \"expression\": 10.0, \"log_expression\": 3.4594316186372973}, {\"gene_symbol\": \"ATP1B1\", \"cluster_id\": \"cluster_15\", \"expression\": 1.9230769230769231, \"log_expression\": 1.5474877953024935}, {\"gene_symbol\": \"ATP1B1\", \"cluster_id\": \"cluster_16\", \"expression\": 7.444444444444445, \"log_expression\": 3.078002512001273}, {\"gene_symbol\": \"ATP1B1\", \"cluster_id\": \"cluster_17\", \"expression\": 2.875, \"log_expression\": 1.9541963103868751}, {\"gene_symbol\": \"ATP1B1\", \"cluster_id\": \"cluster_18\", \"expression\": 4.714285714285714, \"log_expression\": 2.5145731728297585}, {\"gene_symbol\": \"ATP1B1\", \"cluster_id\": \"cluster_19\", \"expression\": 5.7368421052631575, \"log_expression\": 2.7520724865564143}, {\"gene_symbol\": \"ATP1B1\", \"cluster_id\": \"cluster_20\", \"expression\": 0.84375, \"log_expression\": 0.8826430493618412}, {\"gene_symbol\": \"ATP1B1\", \"cluster_id\": \"cluster_21\", \"expression\": 1.4680851063829787, \"log_expression\": 1.3033921434499347}, {\"gene_symbol\": \"ATP1B1\", \"cluster_id\": \"cluster_22\", \"expression\": 1.0869565217391304, \"log_expression\": 1.0614005446641432}, {\"gene_symbol\": \"ATP1B1\", \"cluster_id\": \"cluster_23\", \"expression\": 1.641025641025641, \"log_expression\": 1.40109830832097}, {\"gene_symbol\": \"PAX6\", \"cluster_id\": \"cluster_03\", \"expression\": 1.4545454545454546, \"log_expression\": 1.2954558835261714}, {\"gene_symbol\": \"PAX6\", \"cluster_id\": \"cluster_04\", \"expression\": 5.6923076923076925, \"log_expression\": 2.742503777707636}, {\"gene_symbol\": \"PAX6\", \"cluster_id\": \"cluster_05\", \"expression\": 4.888888888888889, \"log_expression\": 2.557995453120887}, {\"gene_symbol\": \"PAX6\", \"cluster_id\": \"cluster_06\", \"expression\": 6.404761904761905, \"log_expression\": 2.888453347351842}, {\"gene_symbol\": \"PAX6\", \"cluster_id\": \"cluster_07\", \"expression\": 6.296296296296297, \"log_expression\": 2.8671643172929078}, {\"gene_symbol\": \"PAX6\", \"cluster_id\": \"cluster_08\", \"expression\": 2.9565217391304346, \"log_expression\": 1.9842326841416833}, {\"gene_symbol\": \"PAX6\", \"cluster_id\": \"cluster_09\", \"expression\": 4.833333333333333, \"log_expression\": 2.5443205162238103}, {\"gene_symbol\": \"PAX6\", \"cluster_id\": \"cluster_10\", \"expression\": 3.7586206896551726, \"log_expression\": 2.250543461650597}, {\"gene_symbol\": \"PAX6\", \"cluster_id\": \"cluster_11\", \"expression\": 3.7419354838709675, \"log_expression\": 2.245476034449489}, {\"gene_symbol\": \"PAX6\", \"cluster_id\": \"cluster_12\", \"expression\": 3.617021276595745, \"log_expression\": 2.206962380766842}, {\"gene_symbol\": \"PAX6\", \"cluster_id\": \"cluster_13\", \"expression\": 4.909090909090909, \"log_expression\": 2.562936194391157}, {\"gene_symbol\": \"PAX6\", \"cluster_id\": \"cluster_14\", \"expression\": 2.8, \"log_expression\": 1.925999418556223}, {\"gene_symbol\": \"PAX6\", \"cluster_id\": \"cluster_15\", \"expression\": 1.0769230769230769, \"log_expression\": 1.0544477840223763}, {\"gene_symbol\": \"PAX6\", \"cluster_id\": \"cluster_16\", \"expression\": 1.5277777777777777, \"log_expression\": 1.3378696387563838}, {\"gene_symbol\": \"PAX6\", \"cluster_id\": \"cluster_17\", \"expression\": 2.25, \"log_expression\": 1.7004397181410922}, {\"gene_symbol\": \"PAX6\", \"cluster_id\": \"cluster_18\", \"expression\": 1.5, \"log_expression\": 1.3219280948873624}, {\"gene_symbol\": \"PAX6\", \"cluster_id\": \"cluster_19\", \"expression\": 3.1578947368421053, \"log_expression\": 2.0558532347335174}, {\"gene_symbol\": \"PAX6\", \"cluster_id\": \"cluster_20\", \"expression\": 0.84375, \"log_expression\": 0.8826430493618412}, {\"gene_symbol\": \"PAX6\", \"cluster_id\": \"cluster_21\", \"expression\": 0.9361702127659575, \"log_expression\": 0.9532057885210589}, {\"gene_symbol\": \"PAX6\", \"cluster_id\": \"cluster_22\", \"expression\": 1.5434782608695652, \"log_expression\": 1.3468027635263917}, {\"gene_symbol\": \"PAX6\", \"cluster_id\": \"cluster_23\", \"expression\": 1.794871794871795, \"log_expression\": 1.482782105914678}, {\"gene_symbol\": \"SLC32A1\", \"cluster_id\": \"cluster_03\", \"expression\": 1.5681818181818181, \"log_expression\": 1.3607473437778905}, {\"gene_symbol\": \"SLC32A1\", \"cluster_id\": \"cluster_04\", \"expression\": 0.6153846153846154, \"log_expression\": 0.6918777046376681}, {\"gene_symbol\": \"SLC32A1\", \"cluster_id\": \"cluster_05\", \"expression\": 1.9444444444444444, \"log_expression\": 1.5579954531208868}, {\"gene_symbol\": \"SLC32A1\", \"cluster_id\": \"cluster_06\", \"expression\": 2.119047619047619, \"log_expression\": 1.64110557875869}, {\"gene_symbol\": \"SLC32A1\", \"cluster_id\": \"cluster_07\", \"expression\": 1.9814814814814814, \"log_expression\": 1.5760293759511483}, {\"gene_symbol\": \"SLC32A1\", \"cluster_id\": \"cluster_08\", \"expression\": 2.130434782608696, \"log_expression\": 1.6463630453852995}, {\"gene_symbol\": \"SLC32A1\", \"cluster_id\": \"cluster_09\", \"expression\": 1.880952380952381, \"log_expression\": 1.5265458144958342}, {\"gene_symbol\": \"SLC32A1\", \"cluster_id\": \"cluster_10\", \"expression\": 1.896551724137931, \"log_expression\": 1.5343364276511882}, {\"gene_symbol\": \"SLC32A1\", \"cluster_id\": \"cluster_11\", \"expression\": 0.8064516129032258, \"log_expression\": 0.8531586116707288}, {\"gene_symbol\": \"SLC32A1\", \"cluster_id\": \"cluster_12\", \"expression\": 0.9787234042553191, \"log_expression\": 0.9845699594303939}, {\"gene_symbol\": \"SLC32A1\", \"cluster_id\": \"cluster_13\", \"expression\": 3.0, \"log_expression\": 2.0}, {\"gene_symbol\": \"SLC32A1\", \"cluster_id\": \"cluster_14\", \"expression\": 1.1, \"log_expression\": 1.070389327891398}, {\"gene_symbol\": \"SLC32A1\", \"cluster_id\": \"cluster_15\", \"expression\": 0.46153846153846156, \"log_expression\": 0.5474877953024935}, {\"gene_symbol\": \"SLC32A1\", \"cluster_id\": \"cluster_16\", \"expression\": 1.1388888888888888, \"log_expression\": 1.096861539252589}, {\"gene_symbol\": \"SLC32A1\", \"cluster_id\": \"cluster_17\", \"expression\": 1.1111111111111112, \"log_expression\": 1.078002512001273}, {\"gene_symbol\": \"SLC32A1\", \"cluster_id\": \"cluster_18\", \"expression\": 1.9285714285714286, \"log_expression\": 1.5501970825604796}, {\"gene_symbol\": \"SLC32A1\", \"cluster_id\": \"cluster_19\", \"expression\": 1.0, \"log_expression\": 1.0}, {\"gene_symbol\": \"SLC32A1\", \"cluster_id\": \"cluster_20\", \"expression\": 0.375, \"log_expression\": 0.45943161863729726}, {\"gene_symbol\": \"SLC32A1\", \"cluster_id\": \"cluster_21\", \"expression\": 0.7872340425531915, \"log_expression\": 0.8377285711011229}, {\"gene_symbol\": \"SLC32A1\", \"cluster_id\": \"cluster_22\", \"expression\": 0.6739130434782609, \"log_expression\": 0.7432245846378884}, {\"gene_symbol\": \"SLC32A1\", \"cluster_id\": \"cluster_23\", \"expression\": 0.9743589743589743, \"log_expression\": 0.9813843218326531}, {\"gene_symbol\": \"SLC6A1\", \"cluster_id\": \"cluster_03\", \"expression\": 2.090909090909091, \"log_expression\": 1.6280312226130422}, {\"gene_symbol\": \"SLC6A1\", \"cluster_id\": \"cluster_04\", \"expression\": 1.0, \"log_expression\": 1.0}, {\"gene_symbol\": \"SLC6A1\", \"cluster_id\": \"cluster_05\", \"expression\": 3.9444444444444446, \"log_expression\": 2.3058084295240855}, {\"gene_symbol\": \"SLC6A1\", \"cluster_id\": \"cluster_06\", \"expression\": 4.238095238095238, \"log_expression\": 2.3890422907458992}, {\"gene_symbol\": \"SLC6A1\", \"cluster_id\": \"cluster_07\", \"expression\": 3.759259259259259, \"log_expression\": 2.2507370470304098}, {\"gene_symbol\": \"SLC6A1\", \"cluster_id\": \"cluster_08\", \"expression\": 2.782608695652174, \"log_expression\": 1.9193815397917153}, {\"gene_symbol\": \"SLC6A1\", \"cluster_id\": \"cluster_09\", \"expression\": 5.095238095238095, \"log_expression\": 2.6076825772212398}, {\"gene_symbol\": \"SLC6A1\", \"cluster_id\": \"cluster_10\", \"expression\": 5.344827586206897, \"log_expression\": 2.6655809609294407}, {\"gene_symbol\": \"SLC6A1\", \"cluster_id\": \"cluster_11\", \"expression\": 3.903225806451613, \"log_expression\": 2.2937312030567103}, {\"gene_symbol\": \"SLC6A1\", \"cluster_id\": \"cluster_12\", \"expression\": 3.4893617021276597, \"log_expression\": 2.166510337029548}, {\"gene_symbol\": \"SLC6A1\", \"cluster_id\": \"cluster_13\", \"expression\": 11.272727272727273, \"log_expression\": 3.6173839784135335}, {\"gene_symbol\": \"SLC6A1\", \"cluster_id\": \"cluster_14\", \"expression\": 0.2, \"log_expression\": 0.2630344058337938}, {\"gene_symbol\": \"SLC6A1\", \"cluster_id\": \"cluster_15\", \"expression\": 0.07692307692307693, \"log_expression\": 0.1069152039165119}, {\"gene_symbol\": \"SLC6A1\", \"cluster_id\": \"cluster_16\", \"expression\": 0.0, \"log_expression\": 0.0}, {\"gene_symbol\": \"SLC6A1\", \"cluster_id\": \"cluster_17\", \"expression\": 0.027777777777777776, \"log_expression\": 0.03952836418663728}, {\"gene_symbol\": \"SLC6A1\", \"cluster_id\": \"cluster_18\", \"expression\": 0.0, \"log_expression\": 0.0}, {\"gene_symbol\": \"SLC6A1\", \"cluster_id\": \"cluster_19\", \"expression\": 1.105263157894737, \"log_expression\": 1.074000581443777}, {\"gene_symbol\": \"SLC6A1\", \"cluster_id\": \"cluster_20\", \"expression\": 0.0, \"log_expression\": 0.0}, {\"gene_symbol\": \"SLC6A1\", \"cluster_id\": \"cluster_21\", \"expression\": 0.0425531914893617, \"log_expression\": 0.06012099243757093}, {\"gene_symbol\": \"SLC6A1\", \"cluster_id\": \"cluster_22\", \"expression\": 1.4782608695652173, \"log_expression\": 1.3093280581077287}, {\"gene_symbol\": \"SLC6A1\", \"cluster_id\": \"cluster_23\", \"expression\": 3.8205128205128207, \"log_expression\": 2.2691866328153893}, {\"gene_symbol\": \"ELAVL3\", \"cluster_id\": \"cluster_03\", \"expression\": 1.4772727272727273, \"log_expression\": 1.3087527061396294}, {\"gene_symbol\": \"ELAVL3\", \"cluster_id\": \"cluster_04\", \"expression\": 0.8461538461538461, \"log_expression\": 0.8845227825800641}, {\"gene_symbol\": \"ELAVL3\", \"cluster_id\": \"cluster_05\", \"expression\": 1.8888888888888888, \"log_expression\": 1.5305147166987798}, {\"gene_symbol\": \"ELAVL3\", \"cluster_id\": \"cluster_06\", \"expression\": 2.2142857142857144, \"log_expression\": 1.6844981742720706}, {\"gene_symbol\": \"ELAVL3\", \"cluster_id\": \"cluster_07\", \"expression\": 2.7037037037037037, \"log_expression\": 1.8889686876112561}, {\"gene_symbol\": \"ELAVL3\", \"cluster_id\": \"cluster_08\", \"expression\": 1.3478260869565217, \"log_expression\": 1.2313255461064556}, {\"gene_symbol\": \"ELAVL3\", \"cluster_id\": \"cluster_09\", \"expression\": 2.6904761904761907, \"log_expression\": 1.8838069824954773}, {\"gene_symbol\": \"ELAVL3\", \"cluster_id\": \"cluster_10\", \"expression\": 1.8620689655172413, \"log_expression\": 1.5170584362193524}, {\"gene_symbol\": \"ELAVL3\", \"cluster_id\": \"cluster_11\", \"expression\": 1.5161290322580645, \"log_expression\": 1.3312059084753731}, {\"gene_symbol\": \"ELAVL3\", \"cluster_id\": \"cluster_12\", \"expression\": 1.1063829787234043, \"log_expression\": 1.0747677684019725}, {\"gene_symbol\": \"ELAVL3\", \"cluster_id\": \"cluster_13\", \"expression\": 2.0, \"log_expression\": 1.584962500721156}, {\"gene_symbol\": \"ELAVL3\", \"cluster_id\": \"cluster_14\", \"expression\": 1.1, \"log_expression\": 1.070389327891398}, {\"gene_symbol\": \"ELAVL3\", \"cluster_id\": \"cluster_15\", \"expression\": 1.5384615384615385, \"log_expression\": 1.3439544012173612}, {\"gene_symbol\": \"ELAVL3\", \"cluster_id\": \"cluster_16\", \"expression\": 1.6944444444444444, \"log_expression\": 1.4299878407448154}, {\"gene_symbol\": \"ELAVL3\", \"cluster_id\": \"cluster_17\", \"expression\": 1.7916666666666667, \"log_expression\": 1.4811266897366164}, {\"gene_symbol\": \"ELAVL3\", \"cluster_id\": \"cluster_18\", \"expression\": 1.2857142857142858, \"log_expression\": 1.1926450779423958}, {\"gene_symbol\": \"ELAVL3\", \"cluster_id\": \"cluster_19\", \"expression\": 1.9473684210526316, \"log_expression\": 1.5594274086140187}, {\"gene_symbol\": \"ELAVL3\", \"cluster_id\": \"cluster_20\", \"expression\": 1.0625, \"log_expression\": 1.0443941193584534}, {\"gene_symbol\": \"ELAVL3\", \"cluster_id\": \"cluster_21\", \"expression\": 2.0425531914893615, \"log_expression\": 1.6052824851007519}, {\"gene_symbol\": \"ELAVL3\", \"cluster_id\": \"cluster_22\", \"expression\": 0.8478260869565217, \"log_expression\": 0.8858289800806889}, {\"gene_symbol\": \"ELAVL3\", \"cluster_id\": \"cluster_23\", \"expression\": 1.358974358974359, \"log_expression\": 1.2381597371947646}]}}, {\"mode\": \"vega-lite\"});\n",
       "</script>"
      ],
      "text/plain": [
       "alt.Chart(...)"
      ]
     },
     "execution_count": 13,
     "metadata": {},
     "output_type": "execute_result"
    }
   ],
   "source": [
    "altair.Chart(figure5a_expression_tidy).mark_circle().encode(\n",
    "    size='log_expression', x=altair.X('gene_symbol'), y=altair.Y('cluster_id'))"
   ]
  },
  {
   "cell_type": "code",
   "execution_count": 14,
   "metadata": {},
   "outputs": [],
   "source": [
    "figure5a_expression_median = figure5a_expression.groupby(cluster_names, axis=1).median()"
   ]
  },
  {
   "cell_type": "code",
   "execution_count": 15,
   "metadata": {},
   "outputs": [
    {
     "data": {
      "text/html": [
       "<div>\n",
       "<style scoped>\n",
       "    .dataframe tbody tr th:only-of-type {\n",
       "        vertical-align: middle;\n",
       "    }\n",
       "\n",
       "    .dataframe tbody tr th {\n",
       "        vertical-align: top;\n",
       "    }\n",
       "\n",
       "    .dataframe thead th {\n",
       "        text-align: right;\n",
       "    }\n",
       "</style>\n",
       "<table border=\"1\" class=\"dataframe\">\n",
       "  <thead>\n",
       "    <tr style=\"text-align: right;\">\n",
       "      <th></th>\n",
       "      <th>expression</th>\n",
       "      <th>log_expression</th>\n",
       "    </tr>\n",
       "    <tr>\n",
       "      <th>cluster_id</th>\n",
       "      <th></th>\n",
       "      <th></th>\n",
       "    </tr>\n",
       "  </thead>\n",
       "  <tbody>\n",
       "    <tr>\n",
       "      <th>cluster_03</th>\n",
       "      <td>3.128788</td>\n",
       "      <td>1.736475</td>\n",
       "    </tr>\n",
       "    <tr>\n",
       "      <th>cluster_04</th>\n",
       "      <td>2.038462</td>\n",
       "      <td>1.419966</td>\n",
       "    </tr>\n",
       "    <tr>\n",
       "      <th>cluster_05</th>\n",
       "      <td>4.333333</td>\n",
       "      <td>2.250708</td>\n",
       "    </tr>\n",
       "    <tr>\n",
       "      <th>cluster_06</th>\n",
       "      <td>4.876984</td>\n",
       "      <td>2.434327</td>\n",
       "    </tr>\n",
       "    <tr>\n",
       "      <th>cluster_07</th>\n",
       "      <td>4.716049</td>\n",
       "      <td>2.401111</td>\n",
       "    </tr>\n",
       "  </tbody>\n",
       "</table>\n",
       "</div>"
      ],
      "text/plain": [
       "            expression  log_expression\n",
       "cluster_id                            \n",
       "cluster_03    3.128788        1.736475\n",
       "cluster_04    2.038462        1.419966\n",
       "cluster_05    4.333333        2.250708\n",
       "cluster_06    4.876984        2.434327\n",
       "cluster_07    4.716049        2.401111"
      ]
     },
     "execution_count": 15,
     "metadata": {},
     "output_type": "execute_result"
    }
   ],
   "source": [
    "figure5a_expression_mean = figure5a_expression_tidy.groupby('cluster_id').mean()\n",
    "figure5a_expression_mean.head()"
   ]
  },
  {
   "cell_type": "code",
   "execution_count": 16,
   "metadata": {},
   "outputs": [
    {
     "data": {
      "text/html": [
       "\n",
       "<div id=\"altair-viz-7af51c46562f46f0ad492ff8fa054912\"></div>\n",
       "<script type=\"text/javascript\">\n",
       "  (function(spec, embedOpt){\n",
       "    let outputDiv = document.currentScript.previousElementSibling;\n",
       "    if (outputDiv.id !== \"altair-viz-7af51c46562f46f0ad492ff8fa054912\") {\n",
       "      outputDiv = document.getElementById(\"altair-viz-7af51c46562f46f0ad492ff8fa054912\");\n",
       "    }\n",
       "    const paths = {\n",
       "      \"vega\": \"https://cdn.jsdelivr.net/npm//vega@5?noext\",\n",
       "      \"vega-lib\": \"https://cdn.jsdelivr.net/npm//vega-lib?noext\",\n",
       "      \"vega-lite\": \"https://cdn.jsdelivr.net/npm//vega-lite@4.8.1?noext\",\n",
       "      \"vega-embed\": \"https://cdn.jsdelivr.net/npm//vega-embed@6?noext\",\n",
       "    };\n",
       "\n",
       "    function loadScript(lib) {\n",
       "      return new Promise(function(resolve, reject) {\n",
       "        var s = document.createElement('script');\n",
       "        s.src = paths[lib];\n",
       "        s.async = true;\n",
       "        s.onload = () => resolve(paths[lib]);\n",
       "        s.onerror = () => reject(`Error loading script: ${paths[lib]}`);\n",
       "        document.getElementsByTagName(\"head\")[0].appendChild(s);\n",
       "      });\n",
       "    }\n",
       "\n",
       "    function showError(err) {\n",
       "      outputDiv.innerHTML = `<div class=\"error\" style=\"color:red;\">${err}</div>`;\n",
       "      throw err;\n",
       "    }\n",
       "\n",
       "    function displayChart(vegaEmbed) {\n",
       "      vegaEmbed(outputDiv, spec, embedOpt)\n",
       "        .catch(err => showError(`Javascript Error: ${err.message}<br>This usually means there's a typo in your chart specification. See the javascript console for the full traceback.`));\n",
       "    }\n",
       "\n",
       "    if(typeof define === \"function\" && define.amd) {\n",
       "      requirejs.config({paths});\n",
       "      require([\"vega-embed\"], displayChart, err => showError(`Error loading script: ${err.message}`));\n",
       "    } else if (typeof vegaEmbed === \"function\") {\n",
       "      displayChart(vegaEmbed);\n",
       "    } else {\n",
       "      loadScript(\"vega\")\n",
       "        .then(() => loadScript(\"vega-lite\"))\n",
       "        .then(() => loadScript(\"vega-embed\"))\n",
       "        .catch(showError)\n",
       "        .then(() => displayChart(vegaEmbed));\n",
       "    }\n",
       "  })({\"config\": {\"view\": {\"continuousWidth\": 400, \"continuousHeight\": 300}}, \"data\": {\"name\": \"data-1c5128977a3feb851277b8301aa03e2a\"}, \"mark\": \"circle\", \"encoding\": {\"size\": {\"type\": \"quantitative\", \"field\": \"log_expression\"}, \"x\": {\"type\": \"nominal\", \"field\": \"gene_symbol\"}, \"y\": {\"type\": \"nominal\", \"field\": \"cluster_id\"}}, \"$schema\": \"https://vega.github.io/schema/vega-lite/v4.8.1.json\", \"datasets\": {\"data-1c5128977a3feb851277b8301aa03e2a\": [{\"gene_symbol\": \"NRXN2\", \"cluster_id\": \"cluster_03\", \"expression\": 1.4090909090909092, \"log_expression\": 1.268488835925902}, {\"gene_symbol\": \"NRXN2\", \"cluster_id\": \"cluster_04\", \"expression\": 1.8461538461538463, \"log_expression\": 1.5090136474878577}, {\"gene_symbol\": \"NRXN2\", \"cluster_id\": \"cluster_05\", \"expression\": 3.2222222222222223, \"log_expression\": 2.078002512001273}, {\"gene_symbol\": \"NRXN2\", \"cluster_id\": \"cluster_06\", \"expression\": 5.666666666666667, \"log_expression\": 2.736965594166206}, {\"gene_symbol\": \"NRXN2\", \"cluster_id\": \"cluster_07\", \"expression\": 4.814814814814815, \"log_expression\": 2.5397332467281584}, {\"gene_symbol\": \"NRXN2\", \"cluster_id\": \"cluster_08\", \"expression\": 2.3043478260869565, \"log_expression\": 1.7243655573865726}, {\"gene_symbol\": \"NRXN2\", \"cluster_id\": \"cluster_09\", \"expression\": 4.714285714285714, \"log_expression\": 2.5145731728297585}, {\"gene_symbol\": \"NRXN2\", \"cluster_id\": \"cluster_10\", \"expression\": 1.7241379310344827, \"log_expression\": 1.4457997530495308}, {\"gene_symbol\": \"NRXN2\", \"cluster_id\": \"cluster_11\", \"expression\": 1.903225806451613, \"log_expression\": 1.5376567859427994}, {\"gene_symbol\": \"NRXN2\", \"cluster_id\": \"cluster_12\", \"expression\": 1.0, \"log_expression\": 1.0}, {\"gene_symbol\": \"NRXN2\", \"cluster_id\": \"cluster_13\", \"expression\": 3.090909090909091, \"log_expression\": 2.0324214776923775}, {\"gene_symbol\": \"NRXN2\", \"cluster_id\": \"cluster_14\", \"expression\": 4.0, \"log_expression\": 2.321928094887362}, {\"gene_symbol\": \"NRXN2\", \"cluster_id\": \"cluster_15\", \"expression\": 0.9230769230769231, \"log_expression\": 0.9434164716336326}, {\"gene_symbol\": \"NRXN2\", \"cluster_id\": \"cluster_16\", \"expression\": 1.1111111111111112, \"log_expression\": 1.078002512001273}, {\"gene_symbol\": \"NRXN2\", \"cluster_id\": \"cluster_17\", \"expression\": 0.7222222222222222, \"log_expression\": 0.784271308944563}, {\"gene_symbol\": \"NRXN2\", \"cluster_id\": \"cluster_18\", \"expression\": 0.8571428571428571, \"log_expression\": 0.8930847960834881}, {\"gene_symbol\": \"NRXN2\", \"cluster_id\": \"cluster_19\", \"expression\": 2.736842105263158, \"log_expression\": 1.9018196060610966}, {\"gene_symbol\": \"NRXN2\", \"cluster_id\": \"cluster_20\", \"expression\": 0.453125, \"log_expression\": 0.5391588111080314}, {\"gene_symbol\": \"NRXN2\", \"cluster_id\": \"cluster_21\", \"expression\": 0.6808510638297872, \"log_expression\": 0.7491918964994656}, {\"gene_symbol\": \"NRXN2\", \"cluster_id\": \"cluster_22\", \"expression\": 0.9565217391304348, \"log_expression\": 0.9682911402726618}, {\"gene_symbol\": \"NRXN2\", \"cluster_id\": \"cluster_23\", \"expression\": 0.6666666666666666, \"log_expression\": 0.736965594166206}, {\"gene_symbol\": \"ATP1B1\", \"cluster_id\": \"cluster_03\", \"expression\": 10.772727272727273, \"log_expression\": 3.5573766690492565}, {\"gene_symbol\": \"ATP1B1\", \"cluster_id\": \"cluster_04\", \"expression\": 2.230769230769231, \"log_expression\": 1.691877704637668}, {\"gene_symbol\": \"ATP1B1\", \"cluster_id\": \"cluster_05\", \"expression\": 10.11111111111111, \"log_expression\": 3.473931188332412}, {\"gene_symbol\": \"ATP1B1\", \"cluster_id\": \"cluster_06\", \"expression\": 8.619047619047619, \"log_expression\": 3.2658940599730344}, {\"gene_symbol\": \"ATP1B1\", \"cluster_id\": \"cluster_07\", \"expression\": 8.74074074074074, \"log_expression\": 3.284031487128834}, {\"gene_symbol\": \"ATP1B1\", \"cluster_id\": \"cluster_08\", \"expression\": 9.217391304347826, \"log_expression\": 3.3529549905079867}, {\"gene_symbol\": \"ATP1B1\", \"cluster_id\": \"cluster_09\", \"expression\": 17.11904761904762, \"log_expression\": 4.179435220724785}, {\"gene_symbol\": \"ATP1B1\", \"cluster_id\": \"cluster_10\", \"expression\": 8.482758620689655, \"log_expression\": 3.24530681328445}, {\"gene_symbol\": \"ATP1B1\", \"cluster_id\": \"cluster_11\", \"expression\": 6.870967741935484, \"log_expression\": 2.976541027176011}, {\"gene_symbol\": \"ATP1B1\", \"cluster_id\": \"cluster_12\", \"expression\": 3.765957446808511, \"log_expression\": 2.2527660703799666}, {\"gene_symbol\": \"ATP1B1\", \"cluster_id\": \"cluster_13\", \"expression\": 9.636363636363637, \"log_expression\": 3.4109331009461075}, {\"gene_symbol\": \"ATP1B1\", \"cluster_id\": \"cluster_14\", \"expression\": 10.0, \"log_expression\": 3.4594316186372973}, {\"gene_symbol\": \"ATP1B1\", \"cluster_id\": \"cluster_15\", \"expression\": 1.9230769230769231, \"log_expression\": 1.5474877953024935}, {\"gene_symbol\": \"ATP1B1\", \"cluster_id\": \"cluster_16\", \"expression\": 7.444444444444445, \"log_expression\": 3.078002512001273}, {\"gene_symbol\": \"ATP1B1\", \"cluster_id\": \"cluster_17\", \"expression\": 2.875, \"log_expression\": 1.9541963103868751}, {\"gene_symbol\": \"ATP1B1\", \"cluster_id\": \"cluster_18\", \"expression\": 4.714285714285714, \"log_expression\": 2.5145731728297585}, {\"gene_symbol\": \"ATP1B1\", \"cluster_id\": \"cluster_19\", \"expression\": 5.7368421052631575, \"log_expression\": 2.7520724865564143}, {\"gene_symbol\": \"ATP1B1\", \"cluster_id\": \"cluster_20\", \"expression\": 0.84375, \"log_expression\": 0.8826430493618412}, {\"gene_symbol\": \"ATP1B1\", \"cluster_id\": \"cluster_21\", \"expression\": 1.4680851063829787, \"log_expression\": 1.3033921434499347}, {\"gene_symbol\": \"ATP1B1\", \"cluster_id\": \"cluster_22\", \"expression\": 1.0869565217391304, \"log_expression\": 1.0614005446641432}, {\"gene_symbol\": \"ATP1B1\", \"cluster_id\": \"cluster_23\", \"expression\": 1.641025641025641, \"log_expression\": 1.40109830832097}, {\"gene_symbol\": \"PAX6\", \"cluster_id\": \"cluster_03\", \"expression\": 1.4545454545454546, \"log_expression\": 1.2954558835261714}, {\"gene_symbol\": \"PAX6\", \"cluster_id\": \"cluster_04\", \"expression\": 5.6923076923076925, \"log_expression\": 2.742503777707636}, {\"gene_symbol\": \"PAX6\", \"cluster_id\": \"cluster_05\", \"expression\": 4.888888888888889, \"log_expression\": 2.557995453120887}, {\"gene_symbol\": \"PAX6\", \"cluster_id\": \"cluster_06\", \"expression\": 6.404761904761905, \"log_expression\": 2.888453347351842}, {\"gene_symbol\": \"PAX6\", \"cluster_id\": \"cluster_07\", \"expression\": 6.296296296296297, \"log_expression\": 2.8671643172929078}, {\"gene_symbol\": \"PAX6\", \"cluster_id\": \"cluster_08\", \"expression\": 2.9565217391304346, \"log_expression\": 1.9842326841416833}, {\"gene_symbol\": \"PAX6\", \"cluster_id\": \"cluster_09\", \"expression\": 4.833333333333333, \"log_expression\": 2.5443205162238103}, {\"gene_symbol\": \"PAX6\", \"cluster_id\": \"cluster_10\", \"expression\": 3.7586206896551726, \"log_expression\": 2.250543461650597}, {\"gene_symbol\": \"PAX6\", \"cluster_id\": \"cluster_11\", \"expression\": 3.7419354838709675, \"log_expression\": 2.245476034449489}, {\"gene_symbol\": \"PAX6\", \"cluster_id\": \"cluster_12\", \"expression\": 3.617021276595745, \"log_expression\": 2.206962380766842}, {\"gene_symbol\": \"PAX6\", \"cluster_id\": \"cluster_13\", \"expression\": 4.909090909090909, \"log_expression\": 2.562936194391157}, {\"gene_symbol\": \"PAX6\", \"cluster_id\": \"cluster_14\", \"expression\": 2.8, \"log_expression\": 1.925999418556223}, {\"gene_symbol\": \"PAX6\", \"cluster_id\": \"cluster_15\", \"expression\": 1.0769230769230769, \"log_expression\": 1.0544477840223763}, {\"gene_symbol\": \"PAX6\", \"cluster_id\": \"cluster_16\", \"expression\": 1.5277777777777777, \"log_expression\": 1.3378696387563838}, {\"gene_symbol\": \"PAX6\", \"cluster_id\": \"cluster_17\", \"expression\": 2.25, \"log_expression\": 1.7004397181410922}, {\"gene_symbol\": \"PAX6\", \"cluster_id\": \"cluster_18\", \"expression\": 1.5, \"log_expression\": 1.3219280948873624}, {\"gene_symbol\": \"PAX6\", \"cluster_id\": \"cluster_19\", \"expression\": 3.1578947368421053, \"log_expression\": 2.0558532347335174}, {\"gene_symbol\": \"PAX6\", \"cluster_id\": \"cluster_20\", \"expression\": 0.84375, \"log_expression\": 0.8826430493618412}, {\"gene_symbol\": \"PAX6\", \"cluster_id\": \"cluster_21\", \"expression\": 0.9361702127659575, \"log_expression\": 0.9532057885210589}, {\"gene_symbol\": \"PAX6\", \"cluster_id\": \"cluster_22\", \"expression\": 1.5434782608695652, \"log_expression\": 1.3468027635263917}, {\"gene_symbol\": \"PAX6\", \"cluster_id\": \"cluster_23\", \"expression\": 1.794871794871795, \"log_expression\": 1.482782105914678}, {\"gene_symbol\": \"SLC32A1\", \"cluster_id\": \"cluster_03\", \"expression\": 1.5681818181818181, \"log_expression\": 1.3607473437778905}, {\"gene_symbol\": \"SLC32A1\", \"cluster_id\": \"cluster_04\", \"expression\": 0.6153846153846154, \"log_expression\": 0.6918777046376681}, {\"gene_symbol\": \"SLC32A1\", \"cluster_id\": \"cluster_05\", \"expression\": 1.9444444444444444, \"log_expression\": 1.5579954531208868}, {\"gene_symbol\": \"SLC32A1\", \"cluster_id\": \"cluster_06\", \"expression\": 2.119047619047619, \"log_expression\": 1.64110557875869}, {\"gene_symbol\": \"SLC32A1\", \"cluster_id\": \"cluster_07\", \"expression\": 1.9814814814814814, \"log_expression\": 1.5760293759511483}, {\"gene_symbol\": \"SLC32A1\", \"cluster_id\": \"cluster_08\", \"expression\": 2.130434782608696, \"log_expression\": 1.6463630453852995}, {\"gene_symbol\": \"SLC32A1\", \"cluster_id\": \"cluster_09\", \"expression\": 1.880952380952381, \"log_expression\": 1.5265458144958342}, {\"gene_symbol\": \"SLC32A1\", \"cluster_id\": \"cluster_10\", \"expression\": 1.896551724137931, \"log_expression\": 1.5343364276511882}, {\"gene_symbol\": \"SLC32A1\", \"cluster_id\": \"cluster_11\", \"expression\": 0.8064516129032258, \"log_expression\": 0.8531586116707288}, {\"gene_symbol\": \"SLC32A1\", \"cluster_id\": \"cluster_12\", \"expression\": 0.9787234042553191, \"log_expression\": 0.9845699594303939}, {\"gene_symbol\": \"SLC32A1\", \"cluster_id\": \"cluster_13\", \"expression\": 3.0, \"log_expression\": 2.0}, {\"gene_symbol\": \"SLC32A1\", \"cluster_id\": \"cluster_14\", \"expression\": 1.1, \"log_expression\": 1.070389327891398}, {\"gene_symbol\": \"SLC32A1\", \"cluster_id\": \"cluster_15\", \"expression\": 0.46153846153846156, \"log_expression\": 0.5474877953024935}, {\"gene_symbol\": \"SLC32A1\", \"cluster_id\": \"cluster_16\", \"expression\": 1.1388888888888888, \"log_expression\": 1.096861539252589}, {\"gene_symbol\": \"SLC32A1\", \"cluster_id\": \"cluster_17\", \"expression\": 1.1111111111111112, \"log_expression\": 1.078002512001273}, {\"gene_symbol\": \"SLC32A1\", \"cluster_id\": \"cluster_18\", \"expression\": 1.9285714285714286, \"log_expression\": 1.5501970825604796}, {\"gene_symbol\": \"SLC32A1\", \"cluster_id\": \"cluster_19\", \"expression\": 1.0, \"log_expression\": 1.0}, {\"gene_symbol\": \"SLC32A1\", \"cluster_id\": \"cluster_20\", \"expression\": 0.375, \"log_expression\": 0.45943161863729726}, {\"gene_symbol\": \"SLC32A1\", \"cluster_id\": \"cluster_21\", \"expression\": 0.7872340425531915, \"log_expression\": 0.8377285711011229}, {\"gene_symbol\": \"SLC32A1\", \"cluster_id\": \"cluster_22\", \"expression\": 0.6739130434782609, \"log_expression\": 0.7432245846378884}, {\"gene_symbol\": \"SLC32A1\", \"cluster_id\": \"cluster_23\", \"expression\": 0.9743589743589743, \"log_expression\": 0.9813843218326531}, {\"gene_symbol\": \"SLC6A1\", \"cluster_id\": \"cluster_03\", \"expression\": 2.090909090909091, \"log_expression\": 1.6280312226130422}, {\"gene_symbol\": \"SLC6A1\", \"cluster_id\": \"cluster_04\", \"expression\": 1.0, \"log_expression\": 1.0}, {\"gene_symbol\": \"SLC6A1\", \"cluster_id\": \"cluster_05\", \"expression\": 3.9444444444444446, \"log_expression\": 2.3058084295240855}, {\"gene_symbol\": \"SLC6A1\", \"cluster_id\": \"cluster_06\", \"expression\": 4.238095238095238, \"log_expression\": 2.3890422907458992}, {\"gene_symbol\": \"SLC6A1\", \"cluster_id\": \"cluster_07\", \"expression\": 3.759259259259259, \"log_expression\": 2.2507370470304098}, {\"gene_symbol\": \"SLC6A1\", \"cluster_id\": \"cluster_08\", \"expression\": 2.782608695652174, \"log_expression\": 1.9193815397917153}, {\"gene_symbol\": \"SLC6A1\", \"cluster_id\": \"cluster_09\", \"expression\": 5.095238095238095, \"log_expression\": 2.6076825772212398}, {\"gene_symbol\": \"SLC6A1\", \"cluster_id\": \"cluster_10\", \"expression\": 5.344827586206897, \"log_expression\": 2.6655809609294407}, {\"gene_symbol\": \"SLC6A1\", \"cluster_id\": \"cluster_11\", \"expression\": 3.903225806451613, \"log_expression\": 2.2937312030567103}, {\"gene_symbol\": \"SLC6A1\", \"cluster_id\": \"cluster_12\", \"expression\": 3.4893617021276597, \"log_expression\": 2.166510337029548}, {\"gene_symbol\": \"SLC6A1\", \"cluster_id\": \"cluster_13\", \"expression\": 11.272727272727273, \"log_expression\": 3.6173839784135335}, {\"gene_symbol\": \"SLC6A1\", \"cluster_id\": \"cluster_14\", \"expression\": 0.2, \"log_expression\": 0.2630344058337938}, {\"gene_symbol\": \"SLC6A1\", \"cluster_id\": \"cluster_15\", \"expression\": 0.07692307692307693, \"log_expression\": 0.1069152039165119}, {\"gene_symbol\": \"SLC6A1\", \"cluster_id\": \"cluster_16\", \"expression\": 0.0, \"log_expression\": 0.0}, {\"gene_symbol\": \"SLC6A1\", \"cluster_id\": \"cluster_17\", \"expression\": 0.027777777777777776, \"log_expression\": 0.03952836418663728}, {\"gene_symbol\": \"SLC6A1\", \"cluster_id\": \"cluster_18\", \"expression\": 0.0, \"log_expression\": 0.0}, {\"gene_symbol\": \"SLC6A1\", \"cluster_id\": \"cluster_19\", \"expression\": 1.105263157894737, \"log_expression\": 1.074000581443777}, {\"gene_symbol\": \"SLC6A1\", \"cluster_id\": \"cluster_20\", \"expression\": 0.0, \"log_expression\": 0.0}, {\"gene_symbol\": \"SLC6A1\", \"cluster_id\": \"cluster_21\", \"expression\": 0.0425531914893617, \"log_expression\": 0.06012099243757093}, {\"gene_symbol\": \"SLC6A1\", \"cluster_id\": \"cluster_22\", \"expression\": 1.4782608695652173, \"log_expression\": 1.3093280581077287}, {\"gene_symbol\": \"SLC6A1\", \"cluster_id\": \"cluster_23\", \"expression\": 3.8205128205128207, \"log_expression\": 2.2691866328153893}, {\"gene_symbol\": \"ELAVL3\", \"cluster_id\": \"cluster_03\", \"expression\": 1.4772727272727273, \"log_expression\": 1.3087527061396294}, {\"gene_symbol\": \"ELAVL3\", \"cluster_id\": \"cluster_04\", \"expression\": 0.8461538461538461, \"log_expression\": 0.8845227825800641}, {\"gene_symbol\": \"ELAVL3\", \"cluster_id\": \"cluster_05\", \"expression\": 1.8888888888888888, \"log_expression\": 1.5305147166987798}, {\"gene_symbol\": \"ELAVL3\", \"cluster_id\": \"cluster_06\", \"expression\": 2.2142857142857144, \"log_expression\": 1.6844981742720706}, {\"gene_symbol\": \"ELAVL3\", \"cluster_id\": \"cluster_07\", \"expression\": 2.7037037037037037, \"log_expression\": 1.8889686876112561}, {\"gene_symbol\": \"ELAVL3\", \"cluster_id\": \"cluster_08\", \"expression\": 1.3478260869565217, \"log_expression\": 1.2313255461064556}, {\"gene_symbol\": \"ELAVL3\", \"cluster_id\": \"cluster_09\", \"expression\": 2.6904761904761907, \"log_expression\": 1.8838069824954773}, {\"gene_symbol\": \"ELAVL3\", \"cluster_id\": \"cluster_10\", \"expression\": 1.8620689655172413, \"log_expression\": 1.5170584362193524}, {\"gene_symbol\": \"ELAVL3\", \"cluster_id\": \"cluster_11\", \"expression\": 1.5161290322580645, \"log_expression\": 1.3312059084753731}, {\"gene_symbol\": \"ELAVL3\", \"cluster_id\": \"cluster_12\", \"expression\": 1.1063829787234043, \"log_expression\": 1.0747677684019725}, {\"gene_symbol\": \"ELAVL3\", \"cluster_id\": \"cluster_13\", \"expression\": 2.0, \"log_expression\": 1.584962500721156}, {\"gene_symbol\": \"ELAVL3\", \"cluster_id\": \"cluster_14\", \"expression\": 1.1, \"log_expression\": 1.070389327891398}, {\"gene_symbol\": \"ELAVL3\", \"cluster_id\": \"cluster_15\", \"expression\": 1.5384615384615385, \"log_expression\": 1.3439544012173612}, {\"gene_symbol\": \"ELAVL3\", \"cluster_id\": \"cluster_16\", \"expression\": 1.6944444444444444, \"log_expression\": 1.4299878407448154}, {\"gene_symbol\": \"ELAVL3\", \"cluster_id\": \"cluster_17\", \"expression\": 1.7916666666666667, \"log_expression\": 1.4811266897366164}, {\"gene_symbol\": \"ELAVL3\", \"cluster_id\": \"cluster_18\", \"expression\": 1.2857142857142858, \"log_expression\": 1.1926450779423958}, {\"gene_symbol\": \"ELAVL3\", \"cluster_id\": \"cluster_19\", \"expression\": 1.9473684210526316, \"log_expression\": 1.5594274086140187}, {\"gene_symbol\": \"ELAVL3\", \"cluster_id\": \"cluster_20\", \"expression\": 1.0625, \"log_expression\": 1.0443941193584534}, {\"gene_symbol\": \"ELAVL3\", \"cluster_id\": \"cluster_21\", \"expression\": 2.0425531914893615, \"log_expression\": 1.6052824851007519}, {\"gene_symbol\": \"ELAVL3\", \"cluster_id\": \"cluster_22\", \"expression\": 0.8478260869565217, \"log_expression\": 0.8858289800806889}, {\"gene_symbol\": \"ELAVL3\", \"cluster_id\": \"cluster_23\", \"expression\": 1.358974358974359, \"log_expression\": 1.2381597371947646}]}}, {\"mode\": \"vega-lite\"});\n",
       "</script>"
      ],
      "text/plain": [
       "alt.Chart(...)"
      ]
     },
     "execution_count": 16,
     "metadata": {},
     "output_type": "execute_result"
    }
   ],
   "source": [
    "altair.Chart(figure5a_expression_tidy).mark_circle().encode(\n",
    "    size='log_expression', x=altair.X('gene_symbol'), y=altair.Y('cluster_id'))"
   ]
  },
  {
   "cell_type": "markdown",
   "metadata": {},
   "source": [
    "# Figure 5b"
   ]
  },
  {
   "cell_type": "code",
   "execution_count": 17,
   "metadata": {},
   "outputs": [
    {
     "data": {
      "text/plain": [
       "['CHAT', 'GAD1', 'GAD2', 'SLC17A8', 'SLC6A9', 'GJD2', 'GJD2', 'EBF3']"
      ]
     },
     "execution_count": 17,
     "metadata": {},
     "output_type": "execute_result"
    }
   ],
   "source": [
    "figure5b_genes = ['Chat', \"Gad1\", 'Gad2', 'Slc17a8', 'Slc6a9', 'Gjd2', 'Gjd2', 'Ebf3']\n",
    "figure5b_genes_upper = [gene.upper() for gene in figure5b_genes]\n",
    "figure5b_genes_upper"
   ]
  },
  {
   "cell_type": "code",
   "execution_count": 18,
   "metadata": {},
   "outputs": [
    {
     "data": {
      "text/html": [
       "<div>\n",
       "<style scoped>\n",
       "    .dataframe tbody tr th:only-of-type {\n",
       "        vertical-align: middle;\n",
       "    }\n",
       "\n",
       "    .dataframe tbody tr th {\n",
       "        vertical-align: top;\n",
       "    }\n",
       "\n",
       "    .dataframe thead th {\n",
       "        text-align: right;\n",
       "    }\n",
       "</style>\n",
       "<table border=\"1\" class=\"dataframe\">\n",
       "  <thead>\n",
       "    <tr style=\"text-align: right;\">\n",
       "      <th></th>\n",
       "      <th>CHAT</th>\n",
       "      <th>GAD1</th>\n",
       "      <th>GAD2</th>\n",
       "      <th>SLC17A8</th>\n",
       "      <th>SLC6A9</th>\n",
       "      <th>GJD2</th>\n",
       "      <th>GJD2</th>\n",
       "      <th>EBF3</th>\n",
       "    </tr>\n",
       "  </thead>\n",
       "  <tbody>\n",
       "    <tr>\n",
       "      <th>r1_GGCCGCAGTCCG</th>\n",
       "      <td>0.0</td>\n",
       "      <td>0.0</td>\n",
       "      <td>0.0</td>\n",
       "      <td>0.0</td>\n",
       "      <td>0.0</td>\n",
       "      <td>3.0</td>\n",
       "      <td>3.0</td>\n",
       "      <td>0.0</td>\n",
       "    </tr>\n",
       "    <tr>\n",
       "      <th>r1_CTTGTGCGGGAA</th>\n",
       "      <td>0.0</td>\n",
       "      <td>0.0</td>\n",
       "      <td>13.0</td>\n",
       "      <td>0.0</td>\n",
       "      <td>0.0</td>\n",
       "      <td>4.0</td>\n",
       "      <td>4.0</td>\n",
       "      <td>0.0</td>\n",
       "    </tr>\n",
       "    <tr>\n",
       "      <th>r1_GCGCAACTGCTC</th>\n",
       "      <td>0.0</td>\n",
       "      <td>0.0</td>\n",
       "      <td>1.0</td>\n",
       "      <td>0.0</td>\n",
       "      <td>0.0</td>\n",
       "      <td>8.0</td>\n",
       "      <td>8.0</td>\n",
       "      <td>2.0</td>\n",
       "    </tr>\n",
       "    <tr>\n",
       "      <th>r1_GATTGGGAGGCA</th>\n",
       "      <td>0.0</td>\n",
       "      <td>0.0</td>\n",
       "      <td>0.0</td>\n",
       "      <td>0.0</td>\n",
       "      <td>0.0</td>\n",
       "      <td>1.0</td>\n",
       "      <td>1.0</td>\n",
       "      <td>1.0</td>\n",
       "    </tr>\n",
       "    <tr>\n",
       "      <th>r1_GTGCCGCCTCTC</th>\n",
       "      <td>0.0</td>\n",
       "      <td>0.0</td>\n",
       "      <td>0.0</td>\n",
       "      <td>0.0</td>\n",
       "      <td>1.0</td>\n",
       "      <td>1.0</td>\n",
       "      <td>1.0</td>\n",
       "      <td>0.0</td>\n",
       "    </tr>\n",
       "  </tbody>\n",
       "</table>\n",
       "</div>"
      ],
      "text/plain": [
       "                 CHAT  GAD1  GAD2  SLC17A8  SLC6A9  GJD2  GJD2  EBF3\n",
       "r1_GGCCGCAGTCCG   0.0   0.0   0.0      0.0     0.0   3.0   3.0   0.0\n",
       "r1_CTTGTGCGGGAA   0.0   0.0  13.0      0.0     0.0   4.0   4.0   0.0\n",
       "r1_GCGCAACTGCTC   0.0   0.0   1.0      0.0     0.0   8.0   8.0   2.0\n",
       "r1_GATTGGGAGGCA   0.0   0.0   0.0      0.0     0.0   1.0   1.0   1.0\n",
       "r1_GTGCCGCCTCTC   0.0   0.0   0.0      0.0     1.0   1.0   1.0   0.0"
      ]
     },
     "execution_count": 18,
     "metadata": {},
     "output_type": "execute_result"
    }
   ],
   "source": [
    "figure5b_expression = expression[figure5b_genes_upper]\n",
    "figure5b_expression.head()"
   ]
  },
  {
   "cell_type": "code",
   "execution_count": 19,
   "metadata": {},
   "outputs": [
    {
     "name": "stdout",
     "output_type": "stream",
     "text": [
      "(48160, 3)\n"
     ]
    },
    {
     "data": {
      "text/html": [
       "<div>\n",
       "<style scoped>\n",
       "    .dataframe tbody tr th:only-of-type {\n",
       "        vertical-align: middle;\n",
       "    }\n",
       "\n",
       "    .dataframe tbody tr th {\n",
       "        vertical-align: top;\n",
       "    }\n",
       "\n",
       "    .dataframe thead th {\n",
       "        text-align: right;\n",
       "    }\n",
       "</style>\n",
       "<table border=\"1\" class=\"dataframe\">\n",
       "  <thead>\n",
       "    <tr style=\"text-align: right;\">\n",
       "      <th></th>\n",
       "      <th>barcode</th>\n",
       "      <th>gene_symbol</th>\n",
       "      <th>expression</th>\n",
       "    </tr>\n",
       "  </thead>\n",
       "  <tbody>\n",
       "    <tr>\n",
       "      <th>0</th>\n",
       "      <td>r1_GGCCGCAGTCCG</td>\n",
       "      <td>CHAT</td>\n",
       "      <td>0.0</td>\n",
       "    </tr>\n",
       "    <tr>\n",
       "      <th>1</th>\n",
       "      <td>r1_CTTGTGCGGGAA</td>\n",
       "      <td>CHAT</td>\n",
       "      <td>0.0</td>\n",
       "    </tr>\n",
       "    <tr>\n",
       "      <th>2</th>\n",
       "      <td>r1_GCGCAACTGCTC</td>\n",
       "      <td>CHAT</td>\n",
       "      <td>0.0</td>\n",
       "    </tr>\n",
       "    <tr>\n",
       "      <th>3</th>\n",
       "      <td>r1_GATTGGGAGGCA</td>\n",
       "      <td>CHAT</td>\n",
       "      <td>0.0</td>\n",
       "    </tr>\n",
       "    <tr>\n",
       "      <th>4</th>\n",
       "      <td>r1_GTGCCGCCTCTC</td>\n",
       "      <td>CHAT</td>\n",
       "      <td>0.0</td>\n",
       "    </tr>\n",
       "  </tbody>\n",
       "</table>\n",
       "</div>"
      ],
      "text/plain": [
       "           barcode gene_symbol  expression\n",
       "0  r1_GGCCGCAGTCCG        CHAT         0.0\n",
       "1  r1_CTTGTGCGGGAA        CHAT         0.0\n",
       "2  r1_GCGCAACTGCTC        CHAT         0.0\n",
       "3  r1_GATTGGGAGGCA        CHAT         0.0\n",
       "4  r1_GTGCCGCCTCTC        CHAT         0.0"
      ]
     },
     "execution_count": 19,
     "metadata": {},
     "output_type": "execute_result"
    }
   ],
   "source": [
    "figure5b_tidy = pd.melt(figure5b_expression.reset_index(), id_vars='index', \n",
    "               value_name='expression', var_name='gene_symbol')\n",
    "figure5b_tidy = figure5b_tidy.rename(columns={'index': 'barcode'})\n",
    "print(figure5b_tidy.shape)\n",
    "figure5b_tidy.head()"
   ]
  },
  {
   "cell_type": "code",
   "execution_count": 20,
   "metadata": {},
   "outputs": [],
   "source": [
    "sns.set(context='paper', style='whitegrid')"
   ]
  },
  {
   "cell_type": "code",
   "execution_count": 21,
   "metadata": {},
   "outputs": [
    {
     "name": "stdout",
     "output_type": "stream",
     "text": [
      "(48160, 4)\n"
     ]
    },
    {
     "data": {
      "text/html": [
       "<div>\n",
       "<style scoped>\n",
       "    .dataframe tbody tr th:only-of-type {\n",
       "        vertical-align: middle;\n",
       "    }\n",
       "\n",
       "    .dataframe tbody tr th {\n",
       "        vertical-align: top;\n",
       "    }\n",
       "\n",
       "    .dataframe thead th {\n",
       "        text-align: right;\n",
       "    }\n",
       "</style>\n",
       "<table border=\"1\" class=\"dataframe\">\n",
       "  <thead>\n",
       "    <tr style=\"text-align: right;\">\n",
       "      <th></th>\n",
       "      <th>barcode</th>\n",
       "      <th>gene_symbol</th>\n",
       "      <th>expression</th>\n",
       "      <th>cluster_id</th>\n",
       "    </tr>\n",
       "  </thead>\n",
       "  <tbody>\n",
       "    <tr>\n",
       "      <th>0</th>\n",
       "      <td>r1_GGCCGCAGTCCG</td>\n",
       "      <td>CHAT</td>\n",
       "      <td>0.0</td>\n",
       "      <td>cluster_02</td>\n",
       "    </tr>\n",
       "    <tr>\n",
       "      <th>1</th>\n",
       "      <td>r1_CTTGTGCGGGAA</td>\n",
       "      <td>CHAT</td>\n",
       "      <td>0.0</td>\n",
       "      <td>cluster_02</td>\n",
       "    </tr>\n",
       "    <tr>\n",
       "      <th>2</th>\n",
       "      <td>r1_GCGCAACTGCTC</td>\n",
       "      <td>CHAT</td>\n",
       "      <td>0.0</td>\n",
       "      <td>cluster_02</td>\n",
       "    </tr>\n",
       "    <tr>\n",
       "      <th>3</th>\n",
       "      <td>r1_GATTGGGAGGCA</td>\n",
       "      <td>CHAT</td>\n",
       "      <td>0.0</td>\n",
       "      <td>cluster_02</td>\n",
       "    </tr>\n",
       "    <tr>\n",
       "      <th>4</th>\n",
       "      <td>r1_GTGCCGCCTCTC</td>\n",
       "      <td>CHAT</td>\n",
       "      <td>0.0</td>\n",
       "      <td>cluster_25</td>\n",
       "    </tr>\n",
       "  </tbody>\n",
       "</table>\n",
       "</div>"
      ],
      "text/plain": [
       "           barcode gene_symbol  expression  cluster_id\n",
       "0  r1_GGCCGCAGTCCG        CHAT         0.0  cluster_02\n",
       "1  r1_CTTGTGCGGGAA        CHAT         0.0  cluster_02\n",
       "2  r1_GCGCAACTGCTC        CHAT         0.0  cluster_02\n",
       "3  r1_GATTGGGAGGCA        CHAT         0.0  cluster_02\n",
       "4  r1_GTGCCGCCTCTC        CHAT         0.0  cluster_25"
      ]
     },
     "execution_count": 21,
     "metadata": {},
     "output_type": "execute_result"
    }
   ],
   "source": [
    "tidy_clusters = figure5b_tidy.join(cluster_names, on='barcode')\n",
    "print(tidy_clusters.shape)\n",
    "tidy_clusters.head()"
   ]
  },
  {
   "cell_type": "code",
   "execution_count": 22,
   "metadata": {},
   "outputs": [
    {
     "data": {
      "text/plain": [
       "array(['cluster_01', 'cluster_02', 'cluster_03', 'cluster_04',\n",
       "       'cluster_05', 'cluster_06', 'cluster_07', 'cluster_08',\n",
       "       'cluster_09', 'cluster_10', 'cluster_11', 'cluster_12',\n",
       "       'cluster_13', 'cluster_14', 'cluster_15', 'cluster_16',\n",
       "       'cluster_17', 'cluster_18', 'cluster_19', 'cluster_20',\n",
       "       'cluster_21', 'cluster_22', 'cluster_23', 'cluster_24',\n",
       "       'cluster_25', 'cluster_26', 'cluster_27', 'cluster_28',\n",
       "       'cluster_29', 'cluster_30', 'cluster_31', 'cluster_32',\n",
       "       'cluster_33', 'cluster_34', 'cluster_35', 'cluster_36',\n",
       "       'cluster_37', 'cluster_38', 'cluster_39'], dtype=object)"
      ]
     },
     "execution_count": 22,
     "metadata": {},
     "output_type": "execute_result"
    }
   ],
   "source": [
    "clusters = tidy_clusters['cluster_id'].unique()\n",
    "clusters.sort()\n",
    "clusters"
   ]
  },
  {
   "cell_type": "code",
   "execution_count": 23,
   "metadata": {},
   "outputs": [
    {
     "name": "stderr",
     "output_type": "stream",
     "text": [
      "/home/harrisonized/anaconda3/envs/py36/lib/python3.6/site-packages/seaborn/axisgrid.py:316: UserWarning: The `size` parameter has been renamed to `height`; please update your code.\n",
      "  warnings.warn(msg, UserWarning)\n"
     ]
    },
    {
     "data": {
      "text/plain": [
       "<seaborn.axisgrid.FacetGrid at 0x7f725bb54cf8>"
      ]
     },
     "execution_count": 23,
     "metadata": {},
     "output_type": "execute_result"
    },
    {
     "data": {
      "image/png": "[encoded data removed]",
      "text/plain": [
       "<Figure size 504x288 with 7 Axes>"
      ]
     },
     "metadata": {},
     "output_type": "display_data"
    }
   ],
   "source": [
    "g = sns.FacetGrid(tidy_clusters, col='gene_symbol', size=4, aspect=0.25,\n",
    "                  gridspec_kws=dict(hspace=0, wspace=0), sharex=False)\n",
    "g.map(sns.violinplot, 'expression', 'cluster_id', orient='h', scale='width', \n",
    "      linewidth=1, order=clusters, palette='husl', inner=None, cut=True)\n",
    "g.set(xlabel='')\n",
    "g.set_titles('{col_name}')\n"
   ]
  },
  {
   "cell_type": "markdown",
   "metadata": {},
   "source": [
    "## Don't see bimodality .. try log2"
   ]
  },
  {
   "cell_type": "code",
   "execution_count": 24,
   "metadata": {},
   "outputs": [],
   "source": [
    "tidy_clusters['log_expression'] = np.log2(tidy_clusters['expression'] + 1)"
   ]
  },
  {
   "cell_type": "code",
   "execution_count": 25,
   "metadata": {},
   "outputs": [
    {
     "name": "stderr",
     "output_type": "stream",
     "text": [
      "/home/harrisonized/anaconda3/envs/py36/lib/python3.6/site-packages/seaborn/axisgrid.py:316: UserWarning: The `size` parameter has been renamed to `height`; please update your code.\n",
      "  warnings.warn(msg, UserWarning)\n"
     ]
    },
    {
     "data": {
      "image/png": "[encoded data removed]",
      "text/plain": [
       "<Figure size 504x288 with 7 Axes>"
      ]
     },
     "metadata": {},
     "output_type": "display_data"
    }
   ],
   "source": [
    "g = sns.FacetGrid(tidy_clusters, col='gene_symbol', size=4, aspect=0.25,\n",
    "                  gridspec_kws=dict(hspace=0, wspace=0), sharex=False)\n",
    "g.map(sns.violinplot, 'log_expression', 'cluster_id', orient='h', \n",
    "      scale='width', linewidth=1, order=clusters, palette='husl', \n",
    "      inner=None, cut=True)\n",
    "g.set(xlabel='', xticks=[])\n",
    "g.set_titles('{col_name}')\n",
    "for ax in g.axes.flat:\n",
    "    xmin, xmax = ax.get_xlim()\n",
    "    ax.set(xlim=(0, xmax))"
   ]
  },
  {
   "cell_type": "markdown",
   "metadata": {},
   "source": [
    "# 5c Genes"
   ]
  },
  {
   "cell_type": "code",
   "execution_count": 26,
   "metadata": {},
   "outputs": [],
   "source": [
    "figure5c_genes = ['Gng7', 'Gbx2', 'Tpbg', 'Slitrk6', 'Maf', 'Tac2', 'Loxl2', 'Vip', 'Glra1',\n",
    "                  'Igfbp5', 'Pdgfra', 'Slc35d3', 'Car3', 'Fgf1', 'Igf1', 'Col12a1', 'Ptgds',\n",
    "                  'Ppp1r17', 'Cck', 'Pou3f3']  # 'Shisa9' not in index\n",
    "figure5c_genes_upper = [gene.upper() for gene in figure5c_genes]\n",
    "figure5c_expression = expression[figure5c_genes_upper]"
   ]
  },
  {
   "cell_type": "code",
   "execution_count": 27,
   "metadata": {},
   "outputs": [
    {
     "name": "stderr",
     "output_type": "stream",
     "text": [
      "/home/harrisonized/anaconda3/envs/py36/lib/python3.6/site-packages/seaborn/axisgrid.py:316: UserWarning: The `size` parameter has been renamed to `height`; please update your code.\n",
      "  warnings.warn(msg, UserWarning)\n"
     ]
    },
    {
     "data": {
      "image/png": "[encoded data removed]",
      "text/plain": [
       "<Figure size 504x288 with 7 Axes>"
      ]
     },
     "metadata": {},
     "output_type": "display_data"
    }
   ],
   "source": [
    "g = sns.FacetGrid(tidy_clusters, col='gene_symbol', size=4, aspect=0.25,\n",
    "                  gridspec_kws=dict(hspace=0, wspace=0), sharex=False)\n",
    "g.map(sns.violinplot, 'log_expression', 'cluster_id', orient='h', scale='width', \n",
    "      linewidth=1, order=clusters, palette='husl', inner=None, cut=True)\n",
    "g.set(xlabel='', xticks=[])\n",
    "g.set_titles('{col_name}')\n",
    "for ax in g.axes.flat:\n",
    "    xmin, xmax = ax.get_xlim()\n",
    "    ax.set(xlim=(0, xmax))"
   ]
  },
  {
   "cell_type": "code",
   "execution_count": null,
   "metadata": {},
   "outputs": [],
   "source": []
  }
 ],
 "metadata": {
  "kernelspec": {
   "display_name": "Python 3",
   "language": "python",
   "name": "python3"
  },
  "language_info": {
   "codemirror_mode": {
    "name": "ipython",
    "version": 3
   },
   "file_extension": ".py",
   "mimetype": "text/x-python",
   "name": "python",
   "nbconvert_exporter": "python",
   "pygments_lexer": "ipython3",
   "version": "3.6.10"
  }
 },
 "nbformat": 4,
 "nbformat_minor": 4
}
