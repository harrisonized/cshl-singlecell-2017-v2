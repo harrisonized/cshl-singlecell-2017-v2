{
 "cells": [
  {
   "cell_type": "markdown",
   "metadata": {},
   "source": [
    "This notebook follows 03_make_cell_metadata.ipynb\n",
    "\n",
    "Inputs:\n",
    "\n",
    "1. retina_clusteridentities.txt was curl'd from [here](http://mccarrolllab.org/wp-content/uploads/2015/05/retina_clusteridentities.txt).\n",
    "\n",
    "Outputs:\n",
    "\n",
    "1. cell_metadata.csv"
   ]
  },
  {
   "cell_type": "code",
   "execution_count": 1,
   "metadata": {},
   "outputs": [],
   "source": [
    "import pandas as pd\n",
    "\n",
    "to_save=False"
   ]
  },
  {
   "cell_type": "markdown",
   "metadata": {},
   "source": [
    "# Get Data"
   ]
  },
  {
   "cell_type": "code",
   "execution_count": 18,
   "metadata": {
    "scrolled": true
   },
   "outputs": [],
   "source": [
    "# Get data\n",
    "celltypes_df = pd.read_csv('data/metadata/cluster_ids_to_celltypes.csv',\n",
    "                           index_col=0, squeeze=True)\n",
    "\n",
    "cluster_df = pd.read_csv(\"data/downloads/retina_clusteridentities.txt\",\n",
    "                         sep='\\t', header=None, names=['cell', 'cluster_n'], index_col=0)\n",
    "cluster_df['cluster_id'] = cluster_df['cluster_n'].apply(lambda x: f'cluster_{str(x).zfill(2)}')"
   ]
  },
  {
   "cell_type": "markdown",
   "metadata": {
    "scrolled": false
   },
   "source": [
    "# Join Data"
   ]
  },
  {
   "cell_type": "code",
   "execution_count": 20,
   "metadata": {},
   "outputs": [
    {
     "data": {
      "text/html": [
       "<div>\n",
       "<style scoped>\n",
       "    .dataframe tbody tr th:only-of-type {\n",
       "        vertical-align: middle;\n",
       "    }\n",
       "\n",
       "    .dataframe tbody tr th {\n",
       "        vertical-align: top;\n",
       "    }\n",
       "\n",
       "    .dataframe thead th {\n",
       "        text-align: right;\n",
       "    }\n",
       "</style>\n",
       "<table border=\"1\" class=\"dataframe\">\n",
       "  <thead>\n",
       "    <tr style=\"text-align: right;\">\n",
       "      <th></th>\n",
       "      <th>cluster_n</th>\n",
       "      <th>cluster_id</th>\n",
       "      <th>celltype</th>\n",
       "      <th>cluster_celltype_with_id</th>\n",
       "    </tr>\n",
       "    <tr>\n",
       "      <th>cell</th>\n",
       "      <th></th>\n",
       "      <th></th>\n",
       "      <th></th>\n",
       "      <th></th>\n",
       "    </tr>\n",
       "  </thead>\n",
       "  <tbody>\n",
       "    <tr>\n",
       "      <th>r1_GGCCGCAGTCCG</th>\n",
       "      <td>2</td>\n",
       "      <td>cluster_02</td>\n",
       "      <td>Retinal ganglion cells</td>\n",
       "      <td>Retinal ganglion cells (cluster_02)</td>\n",
       "    </tr>\n",
       "    <tr>\n",
       "      <th>r1_CTTGTGCGGGAA</th>\n",
       "      <td>2</td>\n",
       "      <td>cluster_02</td>\n",
       "      <td>Retinal ganglion cells</td>\n",
       "      <td>Retinal ganglion cells (cluster_02)</td>\n",
       "    </tr>\n",
       "    <tr>\n",
       "      <th>r1_GCGCAACTGCTC</th>\n",
       "      <td>2</td>\n",
       "      <td>cluster_02</td>\n",
       "      <td>Retinal ganglion cells</td>\n",
       "      <td>Retinal ganglion cells (cluster_02)</td>\n",
       "    </tr>\n",
       "    <tr>\n",
       "      <th>r1_GATTGGGAGGCA</th>\n",
       "      <td>2</td>\n",
       "      <td>cluster_02</td>\n",
       "      <td>Retinal ganglion cells</td>\n",
       "      <td>Retinal ganglion cells (cluster_02)</td>\n",
       "    </tr>\n",
       "    <tr>\n",
       "      <th>r1_GTGCCGCCTCTC</th>\n",
       "      <td>25</td>\n",
       "      <td>cluster_25</td>\n",
       "      <td>Cones</td>\n",
       "      <td>Cones (cluster_25)</td>\n",
       "    </tr>\n",
       "    <tr>\n",
       "      <th>...</th>\n",
       "      <td>...</td>\n",
       "      <td>...</td>\n",
       "      <td>...</td>\n",
       "      <td>...</td>\n",
       "    </tr>\n",
       "    <tr>\n",
       "      <th>p1_TCAAAAGCCGGG</th>\n",
       "      <td>24</td>\n",
       "      <td>cluster_24</td>\n",
       "      <td>Rods</td>\n",
       "      <td>Rods (cluster_24)</td>\n",
       "    </tr>\n",
       "    <tr>\n",
       "      <th>p1_ATTAAGTTCCAA</th>\n",
       "      <td>34</td>\n",
       "      <td>cluster_34</td>\n",
       "      <td>Muller glia</td>\n",
       "      <td>Muller glia (cluster_34)</td>\n",
       "    </tr>\n",
       "    <tr>\n",
       "      <th>p1_CTGTCTGAGACC</th>\n",
       "      <td>2</td>\n",
       "      <td>cluster_02</td>\n",
       "      <td>Retinal ganglion cells</td>\n",
       "      <td>Retinal ganglion cells (cluster_02)</td>\n",
       "    </tr>\n",
       "    <tr>\n",
       "      <th>p1_TAACGCGCTCCT</th>\n",
       "      <td>24</td>\n",
       "      <td>cluster_24</td>\n",
       "      <td>Rods</td>\n",
       "      <td>Rods (cluster_24)</td>\n",
       "    </tr>\n",
       "    <tr>\n",
       "      <th>p1_ATTCTTGTTCTT</th>\n",
       "      <td>24</td>\n",
       "      <td>cluster_24</td>\n",
       "      <td>Rods</td>\n",
       "      <td>Rods (cluster_24)</td>\n",
       "    </tr>\n",
       "  </tbody>\n",
       "</table>\n",
       "<p>44808 rows × 4 columns</p>\n",
       "</div>"
      ],
      "text/plain": [
       "                 cluster_n  cluster_id                celltype  \\\n",
       "cell                                                             \n",
       "r1_GGCCGCAGTCCG          2  cluster_02  Retinal ganglion cells   \n",
       "r1_CTTGTGCGGGAA          2  cluster_02  Retinal ganglion cells   \n",
       "r1_GCGCAACTGCTC          2  cluster_02  Retinal ganglion cells   \n",
       "r1_GATTGGGAGGCA          2  cluster_02  Retinal ganglion cells   \n",
       "r1_GTGCCGCCTCTC         25  cluster_25                   Cones   \n",
       "...                    ...         ...                     ...   \n",
       "p1_TCAAAAGCCGGG         24  cluster_24                    Rods   \n",
       "p1_ATTAAGTTCCAA         34  cluster_34             Muller glia   \n",
       "p1_CTGTCTGAGACC          2  cluster_02  Retinal ganglion cells   \n",
       "p1_TAACGCGCTCCT         24  cluster_24                    Rods   \n",
       "p1_ATTCTTGTTCTT         24  cluster_24                    Rods   \n",
       "\n",
       "                            cluster_celltype_with_id  \n",
       "cell                                                  \n",
       "r1_GGCCGCAGTCCG  Retinal ganglion cells (cluster_02)  \n",
       "r1_CTTGTGCGGGAA  Retinal ganglion cells (cluster_02)  \n",
       "r1_GCGCAACTGCTC  Retinal ganglion cells (cluster_02)  \n",
       "r1_GATTGGGAGGCA  Retinal ganglion cells (cluster_02)  \n",
       "r1_GTGCCGCCTCTC                   Cones (cluster_25)  \n",
       "...                                              ...  \n",
       "p1_TCAAAAGCCGGG                    Rods (cluster_24)  \n",
       "p1_ATTAAGTTCCAA             Muller glia (cluster_34)  \n",
       "p1_CTGTCTGAGACC  Retinal ganglion cells (cluster_02)  \n",
       "p1_TAACGCGCTCCT                    Rods (cluster_24)  \n",
       "p1_ATTCTTGTTCTT                    Rods (cluster_24)  \n",
       "\n",
       "[44808 rows x 4 columns]"
      ]
     },
     "execution_count": 20,
     "metadata": {},
     "output_type": "execute_result"
    }
   ],
   "source": [
    "cluster_ids_df = cluster_df.join(celltypes_df, on='cluster_id', how='left')\n",
    "cluster_ids_df['cluster_celltype_with_id'] = cluster_ids_df.apply(\n",
    "    lambda x: '{celltype} ({cluster_id})'.format(**x), axis=1)\n",
    "cluster_ids_df"
   ]
  },
  {
   "cell_type": "code",
   "execution_count": 53,
   "metadata": {},
   "outputs": [],
   "source": [
    "if to_save:\n",
    "    cluster_ids_df.to_csv('data/metadata/cell_metadata.csv', header=True)"
   ]
  },
  {
   "cell_type": "code",
   "execution_count": null,
   "metadata": {},
   "outputs": [],
   "source": []
  }
 ],
 "metadata": {
  "kernelspec": {
   "display_name": "Python 3",
   "language": "python",
   "name": "python3"
  },
  "language_info": {
   "codemirror_mode": {
    "name": "ipython",
    "version": 3
   },
   "file_extension": ".py",
   "mimetype": "text/x-python",
   "name": "python",
   "nbconvert_exporter": "python",
   "pygments_lexer": "ipython3",
   "version": "3.6.10"
  }
 },
 "nbformat": 4,
 "nbformat_minor": 4
}
